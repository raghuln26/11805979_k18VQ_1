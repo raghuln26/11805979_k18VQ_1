{
  "nbformat": 4,
  "nbformat_minor": 0,
  "metadata": {
    "colab": {
      "name": "11805979.ipynb",
      "provenance": [],
      "collapsed_sections": [],
      "authorship_tag": "ABX9TyOwb/zMzxgvfshsarb8oH99",
      "include_colab_link": true
    },
    "kernelspec": {
      "name": "python3",
      "display_name": "Python 3"
    },
    "language_info": {
      "name": "python"
    }
  },
  "cells": [
    {
      "cell_type": "markdown",
      "metadata": {
        "id": "view-in-github",
        "colab_type": "text"
      },
      "source": [
        "<a href=\"https://colab.research.google.com/github/raghuln26/11805979_k18VQ_1/blob/master/11805979.ipynb\" target=\"_parent\"><img src=\"https://colab.research.google.com/assets/colab-badge.svg\" alt=\"Open In Colab\"/></a>"
      ]
    },
    {
      "cell_type": "code",
      "metadata": {
        "id": "YU-W0qY3X4h9"
      },
      "source": [
        "#IMPORTING THE LIB"
      ],
      "execution_count": 470,
      "outputs": []
    },
    {
      "cell_type": "markdown",
      "metadata": {
        "id": "Ut2qHWkt6jjo"
      },
      "source": [
        "# New Section"
      ]
    },
    {
      "cell_type": "code",
      "metadata": {
        "id": "p8NBwLh0LPzh"
      },
      "source": [
        "#importing the required lib\n",
        "import pandas as pd          #------------------------------------------>Used to load the dataset\n",
        "import numpy as np           #------------------------------------------>Used for performing mathematical and logical operations \n",
        "import matplotlib.pyplot as plt  #-------------------------------------->This lib is used for Visualization\n",
        "import seaborn as sns         #----------------------------------------->Import the Seaborn module\n",
        "from sklearn.metrics import classification_report,accuracy_score,confusion_matrix #------------------------>Importing the \n",
        "from sklearn.ensemble import RandomForestClassifier,AdaBoostClassifier,GradientBoostingClassifier  #------->Importing the classification model and boosting model for improving the performane.\n",
        "from sklearn.linear_model import LogisticRegression                          #----------------------------->Importing the multi class classification model logisitic regression\n",
        "from sklearn.neighbors import KNeighborsClassifier   #----------------------------------------------------->Importing the knn classifier"
      ],
      "execution_count": 471,
      "outputs": []
    },
    {
      "cell_type": "code",
      "metadata": {
        "colab": {
          "base_uri": "https://localhost:8080/",
          "height": 212
        },
        "id": "Xz_f2vCWXs5d",
        "outputId": "71e543a8-126c-4501-b0ec-2f2a8fff7dc0"
      },
      "source": [
        "data = pd.read_csv(\"/content/winequalityN.csv\")    #----------> loading the dataset using pandas\n",
        "data.head(5)"
      ],
      "execution_count": 472,
      "outputs": [
        {
          "output_type": "execute_result",
          "data": {
            "text/html": [
              "<div>\n",
              "<style scoped>\n",
              "    .dataframe tbody tr th:only-of-type {\n",
              "        vertical-align: middle;\n",
              "    }\n",
              "\n",
              "    .dataframe tbody tr th {\n",
              "        vertical-align: top;\n",
              "    }\n",
              "\n",
              "    .dataframe thead th {\n",
              "        text-align: right;\n",
              "    }\n",
              "</style>\n",
              "<table border=\"1\" class=\"dataframe\">\n",
              "  <thead>\n",
              "    <tr style=\"text-align: right;\">\n",
              "      <th></th>\n",
              "      <th>type</th>\n",
              "      <th>fixed acidity</th>\n",
              "      <th>volatile acidity</th>\n",
              "      <th>citric acid</th>\n",
              "      <th>residual sugar</th>\n",
              "      <th>chlorides</th>\n",
              "      <th>free sulfur dioxide</th>\n",
              "      <th>total sulfur dioxide</th>\n",
              "      <th>density</th>\n",
              "      <th>pH</th>\n",
              "      <th>sulphates</th>\n",
              "      <th>alcohol</th>\n",
              "      <th>quality</th>\n",
              "    </tr>\n",
              "  </thead>\n",
              "  <tbody>\n",
              "    <tr>\n",
              "      <th>0</th>\n",
              "      <td>white</td>\n",
              "      <td>7.0</td>\n",
              "      <td>0.27</td>\n",
              "      <td>0.36</td>\n",
              "      <td>20.7</td>\n",
              "      <td>0.045</td>\n",
              "      <td>45.0</td>\n",
              "      <td>170.0</td>\n",
              "      <td>1.0010</td>\n",
              "      <td>3.00</td>\n",
              "      <td>0.45</td>\n",
              "      <td>8.8</td>\n",
              "      <td>6</td>\n",
              "    </tr>\n",
              "    <tr>\n",
              "      <th>1</th>\n",
              "      <td>white</td>\n",
              "      <td>6.3</td>\n",
              "      <td>0.30</td>\n",
              "      <td>0.34</td>\n",
              "      <td>1.6</td>\n",
              "      <td>0.049</td>\n",
              "      <td>14.0</td>\n",
              "      <td>132.0</td>\n",
              "      <td>0.9940</td>\n",
              "      <td>3.30</td>\n",
              "      <td>0.49</td>\n",
              "      <td>9.5</td>\n",
              "      <td>6</td>\n",
              "    </tr>\n",
              "    <tr>\n",
              "      <th>2</th>\n",
              "      <td>white</td>\n",
              "      <td>8.1</td>\n",
              "      <td>0.28</td>\n",
              "      <td>0.40</td>\n",
              "      <td>6.9</td>\n",
              "      <td>0.050</td>\n",
              "      <td>30.0</td>\n",
              "      <td>97.0</td>\n",
              "      <td>0.9951</td>\n",
              "      <td>3.26</td>\n",
              "      <td>0.44</td>\n",
              "      <td>10.1</td>\n",
              "      <td>6</td>\n",
              "    </tr>\n",
              "    <tr>\n",
              "      <th>3</th>\n",
              "      <td>white</td>\n",
              "      <td>7.2</td>\n",
              "      <td>0.23</td>\n",
              "      <td>0.32</td>\n",
              "      <td>8.5</td>\n",
              "      <td>0.058</td>\n",
              "      <td>47.0</td>\n",
              "      <td>186.0</td>\n",
              "      <td>0.9956</td>\n",
              "      <td>3.19</td>\n",
              "      <td>0.40</td>\n",
              "      <td>9.9</td>\n",
              "      <td>6</td>\n",
              "    </tr>\n",
              "    <tr>\n",
              "      <th>4</th>\n",
              "      <td>white</td>\n",
              "      <td>7.2</td>\n",
              "      <td>0.23</td>\n",
              "      <td>0.32</td>\n",
              "      <td>8.5</td>\n",
              "      <td>0.058</td>\n",
              "      <td>47.0</td>\n",
              "      <td>186.0</td>\n",
              "      <td>0.9956</td>\n",
              "      <td>3.19</td>\n",
              "      <td>0.40</td>\n",
              "      <td>9.9</td>\n",
              "      <td>6</td>\n",
              "    </tr>\n",
              "  </tbody>\n",
              "</table>\n",
              "</div>"
            ],
            "text/plain": [
              "    type  fixed acidity  volatile acidity  ...  sulphates  alcohol  quality\n",
              "0  white            7.0              0.27  ...       0.45      8.8        6\n",
              "1  white            6.3              0.30  ...       0.49      9.5        6\n",
              "2  white            8.1              0.28  ...       0.44     10.1        6\n",
              "3  white            7.2              0.23  ...       0.40      9.9        6\n",
              "4  white            7.2              0.23  ...       0.40      9.9        6\n",
              "\n",
              "[5 rows x 13 columns]"
            ]
          },
          "metadata": {
            "tags": []
          },
          "execution_count": 472
        }
      ]
    },
    {
      "cell_type": "code",
      "metadata": {
        "colab": {
          "base_uri": "https://localhost:8080/"
        },
        "id": "fYIf52UpYXgs",
        "outputId": "1fadcf45-81aa-4271-8d48-547ed07f4309"
      },
      "source": [
        "data.info()"
      ],
      "execution_count": 473,
      "outputs": [
        {
          "output_type": "stream",
          "text": [
            "<class 'pandas.core.frame.DataFrame'>\n",
            "RangeIndex: 6497 entries, 0 to 6496\n",
            "Data columns (total 13 columns):\n",
            " #   Column                Non-Null Count  Dtype  \n",
            "---  ------                --------------  -----  \n",
            " 0   type                  6497 non-null   object \n",
            " 1   fixed acidity         6487 non-null   float64\n",
            " 2   volatile acidity      6489 non-null   float64\n",
            " 3   citric acid           6494 non-null   float64\n",
            " 4   residual sugar        6495 non-null   float64\n",
            " 5   chlorides             6495 non-null   float64\n",
            " 6   free sulfur dioxide   6497 non-null   float64\n",
            " 7   total sulfur dioxide  6497 non-null   float64\n",
            " 8   density               6497 non-null   float64\n",
            " 9   pH                    6488 non-null   float64\n",
            " 10  sulphates             6493 non-null   float64\n",
            " 11  alcohol               6497 non-null   float64\n",
            " 12  quality               6497 non-null   int64  \n",
            "dtypes: float64(11), int64(1), object(1)\n",
            "memory usage: 660.0+ KB\n"
          ],
          "name": "stdout"
        }
      ]
    },
    {
      "cell_type": "code",
      "metadata": {
        "colab": {
          "base_uri": "https://localhost:8080/"
        },
        "id": "LB2WtUBCZB19",
        "outputId": "82e457c6-afae-48a5-cc08-1f652cd330ee"
      },
      "source": [
        "data.isnull().sum()"
      ],
      "execution_count": 474,
      "outputs": [
        {
          "output_type": "execute_result",
          "data": {
            "text/plain": [
              "type                     0\n",
              "fixed acidity           10\n",
              "volatile acidity         8\n",
              "citric acid              3\n",
              "residual sugar           2\n",
              "chlorides                2\n",
              "free sulfur dioxide      0\n",
              "total sulfur dioxide     0\n",
              "density                  0\n",
              "pH                       9\n",
              "sulphates                4\n",
              "alcohol                  0\n",
              "quality                  0\n",
              "dtype: int64"
            ]
          },
          "metadata": {
            "tags": []
          },
          "execution_count": 474
        }
      ]
    },
    {
      "cell_type": "code",
      "metadata": {
        "colab": {
          "base_uri": "https://localhost:8080/",
          "height": 302
        },
        "id": "sr5BqsqWaaBr",
        "outputId": "d2233d40-4752-478f-f115-55047102f16d"
      },
      "source": [
        "import seaborn as sns\n",
        "sns.countplot(x ='quality', data = data)"
      ],
      "execution_count": 475,
      "outputs": [
        {
          "output_type": "execute_result",
          "data": {
            "text/plain": [
              "<matplotlib.axes._subplots.AxesSubplot at 0x7fe04f299050>"
            ]
          },
          "metadata": {
            "tags": []
          },
          "execution_count": 475
        },
        {
          "output_type": "display_data",
          "data": {
            "image/png": "[encoded data removed]",
            "text/plain": [
              "<Figure size 432x288 with 1 Axes>"
            ]
          },
          "metadata": {
            "tags": []
          }
        }
      ]
    },
    {
      "cell_type": "code",
      "metadata": {
        "colab": {
          "base_uri": "https://localhost:8080/"
        },
        "id": "0zXyUp73a5do",
        "outputId": "11d9597b-c522-44c1-dc2a-9e1e5734bc54"
      },
      "source": [
        "data.quality.value_counts()"
      ],
      "execution_count": 476,
      "outputs": [
        {
          "output_type": "execute_result",
          "data": {
            "text/plain": [
              "6    2836\n",
              "5    2138\n",
              "7    1079\n",
              "4     216\n",
              "8     193\n",
              "3      30\n",
              "9       5\n",
              "Name: quality, dtype: int64"
            ]
          },
          "metadata": {
            "tags": []
          },
          "execution_count": 476
        }
      ]
    },
    {
      "cell_type": "code",
      "metadata": {
        "colab": {
          "base_uri": "https://localhost:8080/",
          "height": 302
        },
        "id": "VhdAM5YqzjNh",
        "outputId": "140b44a5-0c88-4c11-c8dd-01fa3b6849e7"
      },
      "source": [
        "sns.boxenplot(x=\"quality\", y=\"fixed acidity\", \n",
        "                   data=data)"
      ],
      "execution_count": 477,
      "outputs": [
        {
          "output_type": "execute_result",
          "data": {
            "text/plain": [
              "<matplotlib.axes._subplots.AxesSubplot at 0x7fe04f21b490>"
            ]
          },
          "metadata": {
            "tags": []
          },
          "execution_count": 477
        },
        {
          "output_type": "display_data",
          "data": {
            "image/png": "[encoded data removed]",
            "text/plain": [
              "<Figure size 432x288 with 1 Axes>"
            ]
          },
          "metadata": {
            "tags": []
          }
        }
      ]
    },
    {
      "cell_type": "code",
      "metadata": {
        "colab": {
          "base_uri": "https://localhost:8080/",
          "height": 302
        },
        "id": "GzGrjk4BzpmR",
        "outputId": "be4944e0-44af-4955-9a74-f49ccc0ae78e"
      },
      "source": [
        "sns.boxenplot(x=\"quality\", y=\"alcohol\",\n",
        "                   data=data)"
      ],
      "execution_count": 478,
      "outputs": [
        {
          "output_type": "execute_result",
          "data": {
            "text/plain": [
              "<matplotlib.axes._subplots.AxesSubplot at 0x7fe04f289f10>"
            ]
          },
          "metadata": {
            "tags": []
          },
          "execution_count": 478
        },
        {
          "output_type": "display_data",
          "data": {
            "image/png": "[encoded data removed]",
            "text/plain": [
              "<Figure size 432x288 with 1 Axes>"
            ]
          },
          "metadata": {
            "tags": []
          }
        }
      ]
    },
    {
      "cell_type": "code",
      "metadata": {
        "colab": {
          "base_uri": "https://localhost:8080/",
          "height": 302
        },
        "id": "jlrbUgMoztIX",
        "outputId": "43c42bd5-525b-4006-a972-da1a37a3c851"
      },
      "source": [
        "sns.boxenplot(x=\"quality\", y=\"volatile acidity\", \n",
        "                   data=data)"
      ],
      "execution_count": 479,
      "outputs": [
        {
          "output_type": "execute_result",
          "data": {
            "text/plain": [
              "<matplotlib.axes._subplots.AxesSubplot at 0x7fe04f143e90>"
            ]
          },
          "metadata": {
            "tags": []
          },
          "execution_count": 479
        },
        {
          "output_type": "display_data",
          "data": {
            "image/png": "[encoded data removed]",
            "text/plain": [
              "<Figure size 432x288 with 1 Axes>"
            ]
          },
          "metadata": {
            "tags": []
          }
        }
      ]
    },
    {
      "cell_type": "code",
      "metadata": {
        "colab": {
          "base_uri": "https://localhost:8080/",
          "height": 302
        },
        "id": "heaINDHIzwnm",
        "outputId": "40333617-8650-4237-bb93-d32a03dc6656"
      },
      "source": [
        "sns.boxenplot(x=\"quality\", y=\"citric acid\",\n",
        "                   data=data)"
      ],
      "execution_count": 480,
      "outputs": [
        {
          "output_type": "execute_result",
          "data": {
            "text/plain": [
              "<matplotlib.axes._subplots.AxesSubplot at 0x7fe04f013b50>"
            ]
          },
          "metadata": {
            "tags": []
          },
          "execution_count": 480
        },
        {
          "output_type": "display_data",
          "data": {
            "image/png": "[encoded data removed]",
            "text/plain": [
              "<Figure size 432x288 with 1 Axes>"
            ]
          },
          "metadata": {
            "tags": []
          }
        }
      ]
    },
    {
      "cell_type": "code",
      "metadata": {
        "colab": {
          "base_uri": "https://localhost:8080/",
          "height": 302
        },
        "id": "0JyM8AUNzzyy",
        "outputId": "892f4e3d-84a1-4eb5-a348-730594d5fe9e"
      },
      "source": [
        "sns.boxenplot(x=\"quality\", y=\"residual sugar\",\n",
        "                   data=data)"
      ],
      "execution_count": 481,
      "outputs": [
        {
          "output_type": "execute_result",
          "data": {
            "text/plain": [
              "<matplotlib.axes._subplots.AxesSubplot at 0x7fe04efbcd50>"
            ]
          },
          "metadata": {
            "tags": []
          },
          "execution_count": 481
        },
        {
          "output_type": "display_data",
          "data": {
            "image/png": "[encoded data removed]",
            "text/plain": [
              "<Figure size 432x288 with 1 Axes>"
            ]
          },
          "metadata": {
            "tags": []
          }
        }
      ]
    },
    {
      "cell_type": "code",
      "metadata": {
        "colab": {
          "base_uri": "https://localhost:8080/",
          "height": 302
        },
        "id": "VWfV_8z7z67Q",
        "outputId": "6655c5a8-ec6c-4875-870f-32dd06c32760"
      },
      "source": [
        "sns.boxenplot(x=\"quality\", y=\"chlorides\", \n",
        "                   data=data)"
      ],
      "execution_count": 482,
      "outputs": [
        {
          "output_type": "execute_result",
          "data": {
            "text/plain": [
              "<matplotlib.axes._subplots.AxesSubplot at 0x7fe04f071a50>"
            ]
          },
          "metadata": {
            "tags": []
          },
          "execution_count": 482
        },
        {
          "output_type": "display_data",
          "data": {
            "image/png": "[encoded data removed]",
            "text/plain": [
              "<Figure size 432x288 with 1 Axes>"
            ]
          },
          "metadata": {
            "tags": []
          }
        }
      ]
    },
    {
      "cell_type": "code",
      "metadata": {
        "colab": {
          "base_uri": "https://localhost:8080/",
          "height": 304
        },
        "id": "Z-uIOLFhz-XR",
        "outputId": "56f0e129-424d-469a-841d-c99c146b44ef"
      },
      "source": [
        "sns.boxenplot(x=\"quality\", y=\"free sulfur dioxide\", \n",
        "                   data=data)"
      ],
      "execution_count": 483,
      "outputs": [
        {
          "output_type": "execute_result",
          "data": {
            "text/plain": [
              "<matplotlib.axes._subplots.AxesSubplot at 0x7fe04f530b50>"
            ]
          },
          "metadata": {
            "tags": []
          },
          "execution_count": 483
        },
        {
          "output_type": "display_data",
          "data": {
            "image/png": "[encoded data removed]",
            "text/plain": [
              "<Figure size 432x288 with 1 Axes>"
            ]
          },
          "metadata": {
            "tags": []
          }
        }
      ]
    },
    {
      "cell_type": "code",
      "metadata": {
        "colab": {
          "base_uri": "https://localhost:8080/",
          "height": 302
        },
        "id": "rcCP4R5F0DDl",
        "outputId": "5739ee0d-7cf5-46da-b9e2-d640075dfdf9"
      },
      "source": [
        "sns.boxenplot(x=\"quality\", y=\"total sulfur dioxide\",\n",
        "                   data=data)"
      ],
      "execution_count": 484,
      "outputs": [
        {
          "output_type": "execute_result",
          "data": {
            "text/plain": [
              "<matplotlib.axes._subplots.AxesSubplot at 0x7fe04f745910>"
            ]
          },
          "metadata": {
            "tags": []
          },
          "execution_count": 484
        },
        {
          "output_type": "display_data",
          "data": {
            "image/png": "[encoded data removed]",
            "text/plain": [
              "<Figure size 432x288 with 1 Axes>"
            ]
          },
          "metadata": {
            "tags": []
          }
        }
      ]
    },
    {
      "cell_type": "code",
      "metadata": {
        "colab": {
          "base_uri": "https://localhost:8080/",
          "height": 302
        },
        "id": "Y6XQqy840HBm",
        "outputId": "abedc4e4-9d27-4cd6-eaa7-42384272a72b"
      },
      "source": [
        "sns.boxenplot(x=\"quality\", y=\"density\",\n",
        "                   data=data)"
      ],
      "execution_count": 485,
      "outputs": [
        {
          "output_type": "execute_result",
          "data": {
            "text/plain": [
              "<matplotlib.axes._subplots.AxesSubplot at 0x7fe04fc76690>"
            ]
          },
          "metadata": {
            "tags": []
          },
          "execution_count": 485
        },
        {
          "output_type": "display_data",
          "data": {
            "image/png": "[encoded data removed]",
            "text/plain": [
              "<Figure size 432x288 with 1 Axes>"
            ]
          },
          "metadata": {
            "tags": []
          }
        }
      ]
    },
    {
      "cell_type": "code",
      "metadata": {
        "colab": {
          "base_uri": "https://localhost:8080/",
          "height": 302
        },
        "id": "VL-AMcPT0H0b",
        "outputId": "f70fe03a-dd14-4b29-be2c-11131dd6bd92"
      },
      "source": [
        "sns.boxenplot(x=\"quality\", y=\"pH\",\n",
        "                   data=data)"
      ],
      "execution_count": 486,
      "outputs": [
        {
          "output_type": "execute_result",
          "data": {
            "text/plain": [
              "<matplotlib.axes._subplots.AxesSubplot at 0x7fe04f434150>"
            ]
          },
          "metadata": {
            "tags": []
          },
          "execution_count": 486
        },
        {
          "output_type": "display_data",
          "data": {
            "image/png": "[encoded data removed]",
            "text/plain": [
              "<Figure size 432x288 with 1 Axes>"
            ]
          },
          "metadata": {
            "tags": []
          }
        }
      ]
    },
    {
      "cell_type": "code",
      "metadata": {
        "colab": {
          "base_uri": "https://localhost:8080/",
          "height": 302
        },
        "id": "j2HV2Nd00OI7",
        "outputId": "8c9412dd-e2e7-4354-f621-b39d4ab893da"
      },
      "source": [
        "sns.boxplot(x=\"quality\", y=\"sulphates\",\n",
        "                   data=data)"
      ],
      "execution_count": 487,
      "outputs": [
        {
          "output_type": "execute_result",
          "data": {
            "text/plain": [
              "<matplotlib.axes._subplots.AxesSubplot at 0x7fe054982b90>"
            ]
          },
          "metadata": {
            "tags": []
          },
          "execution_count": 487
        },
        {
          "output_type": "display_data",
          "data": {
            "image/png": "[encoded data removed]",
            "text/plain": [
              "<Figure size 432x288 with 1 Axes>"
            ]
          },
          "metadata": {
            "tags": []
          }
        }
      ]
    },
    {
      "cell_type": "code",
      "metadata": {
        "colab": {
          "base_uri": "https://localhost:8080/",
          "height": 800
        },
        "id": "WvWeLtr0jOhs",
        "outputId": "2b57e6af-a9ad-4e92-f3cc-62052c1811f4"
      },
      "source": [
        "plt.figure(figsize=(12,12))\n",
        "cor = data.corr(method='pearson')\n",
        "sns.heatmap(cor,annot=True,cmap=plt.cm.coolwarm)\n",
        "plt.show()"
      ],
      "execution_count": 488,
      "outputs": [
        {
          "output_type": "display_data",
          "data": {
            "image/png": "[encoded data removed]",
            "text/plain": [
              "<Figure size 864x864 with 2 Axes>"
            ]
          },
          "metadata": {
            "tags": []
          }
        }
      ]
    },
    {
      "cell_type": "code",
      "metadata": {
        "id": "aBwpiBQyjsGj"
      },
      "source": [
        "data_data = []\n",
        "for x in data.quality:\n",
        "  if x<=5:\n",
        "     data_data.append(0)\n",
        "  else:\n",
        "     data_data.append(1)"
      ],
      "execution_count": 489,
      "outputs": []
    },
    {
      "cell_type": "code",
      "metadata": {
        "id": "73eZ4Zsdl2of"
      },
      "source": [
        "data['target'] = data_data\n"
      ],
      "execution_count": 490,
      "outputs": []
    },
    {
      "cell_type": "code",
      "metadata": {
        "colab": {
          "base_uri": "https://localhost:8080/",
          "height": 212
        },
        "id": "0PdkMV6wmArA",
        "outputId": "be6f63f0-eeb5-458c-90d9-12382e8e4412"
      },
      "source": [
        "data.tail(5)"
      ],
      "execution_count": 491,
      "outputs": [
        {
          "output_type": "execute_result",
          "data": {
            "text/html": [
              "<div>\n",
              "<style scoped>\n",
              "    .dataframe tbody tr th:only-of-type {\n",
              "        vertical-align: middle;\n",
              "    }\n",
              "\n",
              "    .dataframe tbody tr th {\n",
              "        vertical-align: top;\n",
              "    }\n",
              "\n",
              "    .dataframe thead th {\n",
              "        text-align: right;\n",
              "    }\n",
              "</style>\n",
              "<table border=\"1\" class=\"dataframe\">\n",
              "  <thead>\n",
              "    <tr style=\"text-align: right;\">\n",
              "      <th></th>\n",
              "      <th>type</th>\n",
              "      <th>fixed acidity</th>\n",
              "      <th>volatile acidity</th>\n",
              "      <th>citric acid</th>\n",
              "      <th>residual sugar</th>\n",
              "      <th>chlorides</th>\n",
              "      <th>free sulfur dioxide</th>\n",
              "      <th>total sulfur dioxide</th>\n",
              "      <th>density</th>\n",
              "      <th>pH</th>\n",
              "      <th>sulphates</th>\n",
              "      <th>alcohol</th>\n",
              "      <th>quality</th>\n",
              "      <th>target</th>\n",
              "    </tr>\n",
              "  </thead>\n",
              "  <tbody>\n",
              "    <tr>\n",
              "      <th>6492</th>\n",
              "      <td>red</td>\n",
              "      <td>6.2</td>\n",
              "      <td>0.600</td>\n",
              "      <td>0.08</td>\n",
              "      <td>2.0</td>\n",
              "      <td>0.090</td>\n",
              "      <td>32.0</td>\n",
              "      <td>44.0</td>\n",
              "      <td>0.99490</td>\n",
              "      <td>3.45</td>\n",
              "      <td>0.58</td>\n",
              "      <td>10.5</td>\n",
              "      <td>5</td>\n",
              "      <td>0</td>\n",
              "    </tr>\n",
              "    <tr>\n",
              "      <th>6493</th>\n",
              "      <td>red</td>\n",
              "      <td>5.9</td>\n",
              "      <td>0.550</td>\n",
              "      <td>0.10</td>\n",
              "      <td>2.2</td>\n",
              "      <td>0.062</td>\n",
              "      <td>39.0</td>\n",
              "      <td>51.0</td>\n",
              "      <td>0.99512</td>\n",
              "      <td>3.52</td>\n",
              "      <td>NaN</td>\n",
              "      <td>11.2</td>\n",
              "      <td>6</td>\n",
              "      <td>1</td>\n",
              "    </tr>\n",
              "    <tr>\n",
              "      <th>6494</th>\n",
              "      <td>red</td>\n",
              "      <td>6.3</td>\n",
              "      <td>0.510</td>\n",
              "      <td>0.13</td>\n",
              "      <td>2.3</td>\n",
              "      <td>0.076</td>\n",
              "      <td>29.0</td>\n",
              "      <td>40.0</td>\n",
              "      <td>0.99574</td>\n",
              "      <td>3.42</td>\n",
              "      <td>0.75</td>\n",
              "      <td>11.0</td>\n",
              "      <td>6</td>\n",
              "      <td>1</td>\n",
              "    </tr>\n",
              "    <tr>\n",
              "      <th>6495</th>\n",
              "      <td>red</td>\n",
              "      <td>5.9</td>\n",
              "      <td>0.645</td>\n",
              "      <td>0.12</td>\n",
              "      <td>2.0</td>\n",
              "      <td>0.075</td>\n",
              "      <td>32.0</td>\n",
              "      <td>44.0</td>\n",
              "      <td>0.99547</td>\n",
              "      <td>3.57</td>\n",
              "      <td>0.71</td>\n",
              "      <td>10.2</td>\n",
              "      <td>5</td>\n",
              "      <td>0</td>\n",
              "    </tr>\n",
              "    <tr>\n",
              "      <th>6496</th>\n",
              "      <td>red</td>\n",
              "      <td>6.0</td>\n",
              "      <td>0.310</td>\n",
              "      <td>0.47</td>\n",
              "      <td>3.6</td>\n",
              "      <td>0.067</td>\n",
              "      <td>18.0</td>\n",
              "      <td>42.0</td>\n",
              "      <td>0.99549</td>\n",
              "      <td>3.39</td>\n",
              "      <td>0.66</td>\n",
              "      <td>11.0</td>\n",
              "      <td>6</td>\n",
              "      <td>1</td>\n",
              "    </tr>\n",
              "  </tbody>\n",
              "</table>\n",
              "</div>"
            ],
            "text/plain": [
              "     type  fixed acidity  volatile acidity  ...  alcohol  quality  target\n",
              "6492  red            6.2             0.600  ...     10.5        5       0\n",
              "6493  red            5.9             0.550  ...     11.2        6       1\n",
              "6494  red            6.3             0.510  ...     11.0        6       1\n",
              "6495  red            5.9             0.645  ...     10.2        5       0\n",
              "6496  red            6.0             0.310  ...     11.0        6       1\n",
              "\n",
              "[5 rows x 14 columns]"
            ]
          },
          "metadata": {
            "tags": []
          },
          "execution_count": 491
        }
      ]
    },
    {
      "cell_type": "code",
      "metadata": {
        "colab": {
          "base_uri": "https://localhost:8080/"
        },
        "id": "5gLULU9Rma-a",
        "outputId": "94040c33-7fd9-44b8-e2f1-029534fd8d3d"
      },
      "source": [
        "data['target'].value_counts()"
      ],
      "execution_count": 492,
      "outputs": [
        {
          "output_type": "execute_result",
          "data": {
            "text/plain": [
              "1    4113\n",
              "0    2384\n",
              "Name: target, dtype: int64"
            ]
          },
          "metadata": {
            "tags": []
          },
          "execution_count": 492
        }
      ]
    },
    {
      "cell_type": "code",
      "metadata": {
        "id": "vHyViKedZ_pQ"
      },
      "source": [
        "from sklearn.impute import SimpleImputer\n",
        "imputer = SimpleImputer(missing_values=np.nan,strategy='mean')\n",
        "imputer.fit(data.iloc[ :, 1:11])\n",
        "data.iloc[ :, 1:11] = imputer.transform(data.iloc[ :, 1:11])"
      ],
      "execution_count": 493,
      "outputs": []
    },
    {
      "cell_type": "code",
      "metadata": {
        "id": "GWl2jFxEaOAA"
      },
      "source": [
        "train_data = pd.DataFrame(data=data)"
      ],
      "execution_count": 494,
      "outputs": []
    },
    {
      "cell_type": "code",
      "metadata": {
        "colab": {
          "base_uri": "https://localhost:8080/",
          "height": 212
        },
        "id": "l5QnwFRjnFwt",
        "outputId": "4d44da6e-2f50-4c55-9792-b8083c2a4dda"
      },
      "source": [
        "train_data.head(5)"
      ],
      "execution_count": 495,
      "outputs": [
        {
          "output_type": "execute_result",
          "data": {
            "text/html": [
              "<div>\n",
              "<style scoped>\n",
              "    .dataframe tbody tr th:only-of-type {\n",
              "        vertical-align: middle;\n",
              "    }\n",
              "\n",
              "    .dataframe tbody tr th {\n",
              "        vertical-align: top;\n",
              "    }\n",
              "\n",
              "    .dataframe thead th {\n",
              "        text-align: right;\n",
              "    }\n",
              "</style>\n",
              "<table border=\"1\" class=\"dataframe\">\n",
              "  <thead>\n",
              "    <tr style=\"text-align: right;\">\n",
              "      <th></th>\n",
              "      <th>type</th>\n",
              "      <th>fixed acidity</th>\n",
              "      <th>volatile acidity</th>\n",
              "      <th>citric acid</th>\n",
              "      <th>residual sugar</th>\n",
              "      <th>chlorides</th>\n",
              "      <th>free sulfur dioxide</th>\n",
              "      <th>total sulfur dioxide</th>\n",
              "      <th>density</th>\n",
              "      <th>pH</th>\n",
              "      <th>sulphates</th>\n",
              "      <th>alcohol</th>\n",
              "      <th>quality</th>\n",
              "      <th>target</th>\n",
              "    </tr>\n",
              "  </thead>\n",
              "  <tbody>\n",
              "    <tr>\n",
              "      <th>0</th>\n",
              "      <td>white</td>\n",
              "      <td>7.0</td>\n",
              "      <td>0.27</td>\n",
              "      <td>0.36</td>\n",
              "      <td>20.7</td>\n",
              "      <td>0.045</td>\n",
              "      <td>45.0</td>\n",
              "      <td>170.0</td>\n",
              "      <td>1.0010</td>\n",
              "      <td>3.00</td>\n",
              "      <td>0.45</td>\n",
              "      <td>8.8</td>\n",
              "      <td>6</td>\n",
              "      <td>1</td>\n",
              "    </tr>\n",
              "    <tr>\n",
              "      <th>1</th>\n",
              "      <td>white</td>\n",
              "      <td>6.3</td>\n",
              "      <td>0.30</td>\n",
              "      <td>0.34</td>\n",
              "      <td>1.6</td>\n",
              "      <td>0.049</td>\n",
              "      <td>14.0</td>\n",
              "      <td>132.0</td>\n",
              "      <td>0.9940</td>\n",
              "      <td>3.30</td>\n",
              "      <td>0.49</td>\n",
              "      <td>9.5</td>\n",
              "      <td>6</td>\n",
              "      <td>1</td>\n",
              "    </tr>\n",
              "    <tr>\n",
              "      <th>2</th>\n",
              "      <td>white</td>\n",
              "      <td>8.1</td>\n",
              "      <td>0.28</td>\n",
              "      <td>0.40</td>\n",
              "      <td>6.9</td>\n",
              "      <td>0.050</td>\n",
              "      <td>30.0</td>\n",
              "      <td>97.0</td>\n",
              "      <td>0.9951</td>\n",
              "      <td>3.26</td>\n",
              "      <td>0.44</td>\n",
              "      <td>10.1</td>\n",
              "      <td>6</td>\n",
              "      <td>1</td>\n",
              "    </tr>\n",
              "    <tr>\n",
              "      <th>3</th>\n",
              "      <td>white</td>\n",
              "      <td>7.2</td>\n",
              "      <td>0.23</td>\n",
              "      <td>0.32</td>\n",
              "      <td>8.5</td>\n",
              "      <td>0.058</td>\n",
              "      <td>47.0</td>\n",
              "      <td>186.0</td>\n",
              "      <td>0.9956</td>\n",
              "      <td>3.19</td>\n",
              "      <td>0.40</td>\n",
              "      <td>9.9</td>\n",
              "      <td>6</td>\n",
              "      <td>1</td>\n",
              "    </tr>\n",
              "    <tr>\n",
              "      <th>4</th>\n",
              "      <td>white</td>\n",
              "      <td>7.2</td>\n",
              "      <td>0.23</td>\n",
              "      <td>0.32</td>\n",
              "      <td>8.5</td>\n",
              "      <td>0.058</td>\n",
              "      <td>47.0</td>\n",
              "      <td>186.0</td>\n",
              "      <td>0.9956</td>\n",
              "      <td>3.19</td>\n",
              "      <td>0.40</td>\n",
              "      <td>9.9</td>\n",
              "      <td>6</td>\n",
              "      <td>1</td>\n",
              "    </tr>\n",
              "  </tbody>\n",
              "</table>\n",
              "</div>"
            ],
            "text/plain": [
              "    type  fixed acidity  volatile acidity  ...  alcohol  quality  target\n",
              "0  white            7.0              0.27  ...      8.8        6       1\n",
              "1  white            6.3              0.30  ...      9.5        6       1\n",
              "2  white            8.1              0.28  ...     10.1        6       1\n",
              "3  white            7.2              0.23  ...      9.9        6       1\n",
              "4  white            7.2              0.23  ...      9.9        6       1\n",
              "\n",
              "[5 rows x 14 columns]"
            ]
          },
          "metadata": {
            "tags": []
          },
          "execution_count": 495
        }
      ]
    },
    {
      "cell_type": "code",
      "metadata": {
        "colab": {
          "base_uri": "https://localhost:8080/"
        },
        "id": "_FyPNN9XnOX3",
        "outputId": "83516d36-6434-450e-ca38-9de39ab1a86e"
      },
      "source": [
        "train_data.isnull().sum()"
      ],
      "execution_count": 496,
      "outputs": [
        {
          "output_type": "execute_result",
          "data": {
            "text/plain": [
              "type                    0\n",
              "fixed acidity           0\n",
              "volatile acidity        0\n",
              "citric acid             0\n",
              "residual sugar          0\n",
              "chlorides               0\n",
              "free sulfur dioxide     0\n",
              "total sulfur dioxide    0\n",
              "density                 0\n",
              "pH                      0\n",
              "sulphates               0\n",
              "alcohol                 0\n",
              "quality                 0\n",
              "target                  0\n",
              "dtype: int64"
            ]
          },
          "metadata": {
            "tags": []
          },
          "execution_count": 496
        }
      ]
    },
    {
      "cell_type": "code",
      "metadata": {
        "id": "sok4FPUWnZuh"
      },
      "source": [
        "from sklearn.compose import ColumnTransformer\n",
        "from sklearn.preprocessing import OneHotEncoder\n",
        "ct = ColumnTransformer(transformers=[('encoder', OneHotEncoder(), [0])], remainder='passthrough')\n",
        "train_data= np.array(ct.fit_transform(train_data))"
      ],
      "execution_count": 497,
      "outputs": []
    },
    {
      "cell_type": "code",
      "metadata": {
        "id": "DIinc_5enqiL"
      },
      "source": [
        "train_data1 = pd.DataFrame(data=train_data)"
      ],
      "execution_count": 498,
      "outputs": []
    },
    {
      "cell_type": "code",
      "metadata": {
        "colab": {
          "base_uri": "https://localhost:8080/",
          "height": 195
        },
        "id": "plr5vOhlnzI9",
        "outputId": "b76137c2-4b23-4b06-c536-1523a13c9d73"
      },
      "source": [
        "train_data1.head(5)"
      ],
      "execution_count": 499,
      "outputs": [
        {
          "output_type": "execute_result",
          "data": {
            "text/html": [
              "<div>\n",
              "<style scoped>\n",
              "    .dataframe tbody tr th:only-of-type {\n",
              "        vertical-align: middle;\n",
              "    }\n",
              "\n",
              "    .dataframe tbody tr th {\n",
              "        vertical-align: top;\n",
              "    }\n",
              "\n",
              "    .dataframe thead th {\n",
              "        text-align: right;\n",
              "    }\n",
              "</style>\n",
              "<table border=\"1\" class=\"dataframe\">\n",
              "  <thead>\n",
              "    <tr style=\"text-align: right;\">\n",
              "      <th></th>\n",
              "      <th>0</th>\n",
              "      <th>1</th>\n",
              "      <th>2</th>\n",
              "      <th>3</th>\n",
              "      <th>4</th>\n",
              "      <th>5</th>\n",
              "      <th>6</th>\n",
              "      <th>7</th>\n",
              "      <th>8</th>\n",
              "      <th>9</th>\n",
              "      <th>10</th>\n",
              "      <th>11</th>\n",
              "      <th>12</th>\n",
              "      <th>13</th>\n",
              "      <th>14</th>\n",
              "    </tr>\n",
              "  </thead>\n",
              "  <tbody>\n",
              "    <tr>\n",
              "      <th>0</th>\n",
              "      <td>0.0</td>\n",
              "      <td>1.0</td>\n",
              "      <td>7.0</td>\n",
              "      <td>0.27</td>\n",
              "      <td>0.36</td>\n",
              "      <td>20.7</td>\n",
              "      <td>0.045</td>\n",
              "      <td>45.0</td>\n",
              "      <td>170.0</td>\n",
              "      <td>1.0010</td>\n",
              "      <td>3.00</td>\n",
              "      <td>0.45</td>\n",
              "      <td>8.8</td>\n",
              "      <td>6.0</td>\n",
              "      <td>1.0</td>\n",
              "    </tr>\n",
              "    <tr>\n",
              "      <th>1</th>\n",
              "      <td>0.0</td>\n",
              "      <td>1.0</td>\n",
              "      <td>6.3</td>\n",
              "      <td>0.30</td>\n",
              "      <td>0.34</td>\n",
              "      <td>1.6</td>\n",
              "      <td>0.049</td>\n",
              "      <td>14.0</td>\n",
              "      <td>132.0</td>\n",
              "      <td>0.9940</td>\n",
              "      <td>3.30</td>\n",
              "      <td>0.49</td>\n",
              "      <td>9.5</td>\n",
              "      <td>6.0</td>\n",
              "      <td>1.0</td>\n",
              "    </tr>\n",
              "    <tr>\n",
              "      <th>2</th>\n",
              "      <td>0.0</td>\n",
              "      <td>1.0</td>\n",
              "      <td>8.1</td>\n",
              "      <td>0.28</td>\n",
              "      <td>0.40</td>\n",
              "      <td>6.9</td>\n",
              "      <td>0.050</td>\n",
              "      <td>30.0</td>\n",
              "      <td>97.0</td>\n",
              "      <td>0.9951</td>\n",
              "      <td>3.26</td>\n",
              "      <td>0.44</td>\n",
              "      <td>10.1</td>\n",
              "      <td>6.0</td>\n",
              "      <td>1.0</td>\n",
              "    </tr>\n",
              "    <tr>\n",
              "      <th>3</th>\n",
              "      <td>0.0</td>\n",
              "      <td>1.0</td>\n",
              "      <td>7.2</td>\n",
              "      <td>0.23</td>\n",
              "      <td>0.32</td>\n",
              "      <td>8.5</td>\n",
              "      <td>0.058</td>\n",
              "      <td>47.0</td>\n",
              "      <td>186.0</td>\n",
              "      <td>0.9956</td>\n",
              "      <td>3.19</td>\n",
              "      <td>0.40</td>\n",
              "      <td>9.9</td>\n",
              "      <td>6.0</td>\n",
              "      <td>1.0</td>\n",
              "    </tr>\n",
              "    <tr>\n",
              "      <th>4</th>\n",
              "      <td>0.0</td>\n",
              "      <td>1.0</td>\n",
              "      <td>7.2</td>\n",
              "      <td>0.23</td>\n",
              "      <td>0.32</td>\n",
              "      <td>8.5</td>\n",
              "      <td>0.058</td>\n",
              "      <td>47.0</td>\n",
              "      <td>186.0</td>\n",
              "      <td>0.9956</td>\n",
              "      <td>3.19</td>\n",
              "      <td>0.40</td>\n",
              "      <td>9.9</td>\n",
              "      <td>6.0</td>\n",
              "      <td>1.0</td>\n",
              "    </tr>\n",
              "  </tbody>\n",
              "</table>\n",
              "</div>"
            ],
            "text/plain": [
              "    0    1    2     3     4     5   ...      9     10    11    12   13   14\n",
              "0  0.0  1.0  7.0  0.27  0.36  20.7  ...  1.0010  3.00  0.45   8.8  6.0  1.0\n",
              "1  0.0  1.0  6.3  0.30  0.34   1.6  ...  0.9940  3.30  0.49   9.5  6.0  1.0\n",
              "2  0.0  1.0  8.1  0.28  0.40   6.9  ...  0.9951  3.26  0.44  10.1  6.0  1.0\n",
              "3  0.0  1.0  7.2  0.23  0.32   8.5  ...  0.9956  3.19  0.40   9.9  6.0  1.0\n",
              "4  0.0  1.0  7.2  0.23  0.32   8.5  ...  0.9956  3.19  0.40   9.9  6.0  1.0\n",
              "\n",
              "[5 rows x 15 columns]"
            ]
          },
          "metadata": {
            "tags": []
          },
          "execution_count": 499
        }
      ]
    },
    {
      "cell_type": "code",
      "metadata": {
        "id": "tmi4_Gm-oBlY"
      },
      "source": [
        "x= train_data1.iloc[:, :-2].values       #------------>list of feature\n",
        "y = train_data1.iloc[:, -1].values       #----------------->list of label"
      ],
      "execution_count": 500,
      "outputs": []
    },
    {
      "cell_type": "code",
      "metadata": {
        "id": "g4B0hsLeobHC"
      },
      "source": [
        "X = pd.DataFrame(data = x)"
      ],
      "execution_count": 501,
      "outputs": []
    },
    {
      "cell_type": "code",
      "metadata": {
        "colab": {
          "base_uri": "https://localhost:8080/",
          "height": 195
        },
        "id": "qAPITbWNo0dR",
        "outputId": "0c0bd6f0-ac38-4560-a2c5-8fcdca2243d5"
      },
      "source": [
        "X.head(5)"
      ],
      "execution_count": 502,
      "outputs": [
        {
          "output_type": "execute_result",
          "data": {
            "text/html": [
              "<div>\n",
              "<style scoped>\n",
              "    .dataframe tbody tr th:only-of-type {\n",
              "        vertical-align: middle;\n",
              "    }\n",
              "\n",
              "    .dataframe tbody tr th {\n",
              "        vertical-align: top;\n",
              "    }\n",
              "\n",
              "    .dataframe thead th {\n",
              "        text-align: right;\n",
              "    }\n",
              "</style>\n",
              "<table border=\"1\" class=\"dataframe\">\n",
              "  <thead>\n",
              "    <tr style=\"text-align: right;\">\n",
              "      <th></th>\n",
              "      <th>0</th>\n",
              "      <th>1</th>\n",
              "      <th>2</th>\n",
              "      <th>3</th>\n",
              "      <th>4</th>\n",
              "      <th>5</th>\n",
              "      <th>6</th>\n",
              "      <th>7</th>\n",
              "      <th>8</th>\n",
              "      <th>9</th>\n",
              "      <th>10</th>\n",
              "      <th>11</th>\n",
              "      <th>12</th>\n",
              "    </tr>\n",
              "  </thead>\n",
              "  <tbody>\n",
              "    <tr>\n",
              "      <th>0</th>\n",
              "      <td>0.0</td>\n",
              "      <td>1.0</td>\n",
              "      <td>7.0</td>\n",
              "      <td>0.27</td>\n",
              "      <td>0.36</td>\n",
              "      <td>20.7</td>\n",
              "      <td>0.045</td>\n",
              "      <td>45.0</td>\n",
              "      <td>170.0</td>\n",
              "      <td>1.0010</td>\n",
              "      <td>3.00</td>\n",
              "      <td>0.45</td>\n",
              "      <td>8.8</td>\n",
              "    </tr>\n",
              "    <tr>\n",
              "      <th>1</th>\n",
              "      <td>0.0</td>\n",
              "      <td>1.0</td>\n",
              "      <td>6.3</td>\n",
              "      <td>0.30</td>\n",
              "      <td>0.34</td>\n",
              "      <td>1.6</td>\n",
              "      <td>0.049</td>\n",
              "      <td>14.0</td>\n",
              "      <td>132.0</td>\n",
              "      <td>0.9940</td>\n",
              "      <td>3.30</td>\n",
              "      <td>0.49</td>\n",
              "      <td>9.5</td>\n",
              "    </tr>\n",
              "    <tr>\n",
              "      <th>2</th>\n",
              "      <td>0.0</td>\n",
              "      <td>1.0</td>\n",
              "      <td>8.1</td>\n",
              "      <td>0.28</td>\n",
              "      <td>0.40</td>\n",
              "      <td>6.9</td>\n",
              "      <td>0.050</td>\n",
              "      <td>30.0</td>\n",
              "      <td>97.0</td>\n",
              "      <td>0.9951</td>\n",
              "      <td>3.26</td>\n",
              "      <td>0.44</td>\n",
              "      <td>10.1</td>\n",
              "    </tr>\n",
              "    <tr>\n",
              "      <th>3</th>\n",
              "      <td>0.0</td>\n",
              "      <td>1.0</td>\n",
              "      <td>7.2</td>\n",
              "      <td>0.23</td>\n",
              "      <td>0.32</td>\n",
              "      <td>8.5</td>\n",
              "      <td>0.058</td>\n",
              "      <td>47.0</td>\n",
              "      <td>186.0</td>\n",
              "      <td>0.9956</td>\n",
              "      <td>3.19</td>\n",
              "      <td>0.40</td>\n",
              "      <td>9.9</td>\n",
              "    </tr>\n",
              "    <tr>\n",
              "      <th>4</th>\n",
              "      <td>0.0</td>\n",
              "      <td>1.0</td>\n",
              "      <td>7.2</td>\n",
              "      <td>0.23</td>\n",
              "      <td>0.32</td>\n",
              "      <td>8.5</td>\n",
              "      <td>0.058</td>\n",
              "      <td>47.0</td>\n",
              "      <td>186.0</td>\n",
              "      <td>0.9956</td>\n",
              "      <td>3.19</td>\n",
              "      <td>0.40</td>\n",
              "      <td>9.9</td>\n",
              "    </tr>\n",
              "  </tbody>\n",
              "</table>\n",
              "</div>"
            ],
            "text/plain": [
              "    0    1    2     3     4     5   ...    7      8       9     10    11    12\n",
              "0  0.0  1.0  7.0  0.27  0.36  20.7  ...  45.0  170.0  1.0010  3.00  0.45   8.8\n",
              "1  0.0  1.0  6.3  0.30  0.34   1.6  ...  14.0  132.0  0.9940  3.30  0.49   9.5\n",
              "2  0.0  1.0  8.1  0.28  0.40   6.9  ...  30.0   97.0  0.9951  3.26  0.44  10.1\n",
              "3  0.0  1.0  7.2  0.23  0.32   8.5  ...  47.0  186.0  0.9956  3.19  0.40   9.9\n",
              "4  0.0  1.0  7.2  0.23  0.32   8.5  ...  47.0  186.0  0.9956  3.19  0.40   9.9\n",
              "\n",
              "[5 rows x 13 columns]"
            ]
          },
          "metadata": {
            "tags": []
          },
          "execution_count": 502
        }
      ]
    },
    {
      "cell_type": "code",
      "metadata": {
        "id": "pY9DV0FUpGRv"
      },
      "source": [
        "Y = pd.DataFrame(data = y)"
      ],
      "execution_count": 503,
      "outputs": []
    },
    {
      "cell_type": "code",
      "metadata": {
        "colab": {
          "base_uri": "https://localhost:8080/"
        },
        "id": "6WUcCzHRpLIE",
        "outputId": "491b7e2a-8c0e-4d40-ad4c-1af3d68687c0"
      },
      "source": [
        "print(Y)"
      ],
      "execution_count": 504,
      "outputs": [
        {
          "output_type": "stream",
          "text": [
            "        0\n",
            "0     1.0\n",
            "1     1.0\n",
            "2     1.0\n",
            "3     1.0\n",
            "4     1.0\n",
            "...   ...\n",
            "6492  0.0\n",
            "6493  1.0\n",
            "6494  1.0\n",
            "6495  0.0\n",
            "6496  1.0\n",
            "\n",
            "[6497 rows x 1 columns]\n"
          ],
          "name": "stdout"
        }
      ]
    },
    {
      "cell_type": "code",
      "metadata": {
        "colab": {
          "base_uri": "https://localhost:8080/",
          "height": 195
        },
        "id": "PiajzZTYpqRt",
        "outputId": "ffd2094c-a08a-4b04-b320-92d939132618"
      },
      "source": [
        "from sklearn.preprocessing import StandardScaler\n",
        "sc = StandardScaler()\n",
        "X= sc.fit_transform(X)\n",
        "pd.DataFrame(X).head()"
      ],
      "execution_count": 505,
      "outputs": [
        {
          "output_type": "execute_result",
          "data": {
            "text/html": [
              "<div>\n",
              "<style scoped>\n",
              "    .dataframe tbody tr th:only-of-type {\n",
              "        vertical-align: middle;\n",
              "    }\n",
              "\n",
              "    .dataframe tbody tr th {\n",
              "        vertical-align: top;\n",
              "    }\n",
              "\n",
              "    .dataframe thead th {\n",
              "        text-align: right;\n",
              "    }\n",
              "</style>\n",
              "<table border=\"1\" class=\"dataframe\">\n",
              "  <thead>\n",
              "    <tr style=\"text-align: right;\">\n",
              "      <th></th>\n",
              "      <th>0</th>\n",
              "      <th>1</th>\n",
              "      <th>2</th>\n",
              "      <th>3</th>\n",
              "      <th>4</th>\n",
              "      <th>5</th>\n",
              "      <th>6</th>\n",
              "      <th>7</th>\n",
              "      <th>8</th>\n",
              "      <th>9</th>\n",
              "      <th>10</th>\n",
              "      <th>11</th>\n",
              "      <th>12</th>\n",
              "    </tr>\n",
              "  </thead>\n",
              "  <tbody>\n",
              "    <tr>\n",
              "      <th>0</th>\n",
              "      <td>-0.571367</td>\n",
              "      <td>0.571367</td>\n",
              "      <td>-0.167159</td>\n",
              "      <td>-0.423564</td>\n",
              "      <td>0.284245</td>\n",
              "      <td>3.206977</td>\n",
              "      <td>-0.315222</td>\n",
              "      <td>0.815565</td>\n",
              "      <td>0.959976</td>\n",
              "      <td>2.102214</td>\n",
              "      <td>-1.359665</td>\n",
              "      <td>-0.545959</td>\n",
              "      <td>-1.418558</td>\n",
              "    </tr>\n",
              "    <tr>\n",
              "      <th>1</th>\n",
              "      <td>-0.571367</td>\n",
              "      <td>0.571367</td>\n",
              "      <td>-0.707427</td>\n",
              "      <td>-0.241232</td>\n",
              "      <td>0.146523</td>\n",
              "      <td>-0.808136</td>\n",
              "      <td>-0.201027</td>\n",
              "      <td>-0.931107</td>\n",
              "      <td>0.287618</td>\n",
              "      <td>-0.232332</td>\n",
              "      <td>0.508045</td>\n",
              "      <td>-0.277064</td>\n",
              "      <td>-0.831615</td>\n",
              "    </tr>\n",
              "    <tr>\n",
              "      <th>2</th>\n",
              "      <td>-0.571367</td>\n",
              "      <td>0.571367</td>\n",
              "      <td>0.681835</td>\n",
              "      <td>-0.362786</td>\n",
              "      <td>0.559689</td>\n",
              "      <td>0.306005</td>\n",
              "      <td>-0.172479</td>\n",
              "      <td>-0.029599</td>\n",
              "      <td>-0.331660</td>\n",
              "      <td>0.134525</td>\n",
              "      <td>0.259017</td>\n",
              "      <td>-0.613183</td>\n",
              "      <td>-0.328521</td>\n",
              "    </tr>\n",
              "    <tr>\n",
              "      <th>3</th>\n",
              "      <td>-0.571367</td>\n",
              "      <td>0.571367</td>\n",
              "      <td>-0.012796</td>\n",
              "      <td>-0.666673</td>\n",
              "      <td>0.008801</td>\n",
              "      <td>0.642350</td>\n",
              "      <td>0.055911</td>\n",
              "      <td>0.928254</td>\n",
              "      <td>1.243074</td>\n",
              "      <td>0.301278</td>\n",
              "      <td>-0.176782</td>\n",
              "      <td>-0.882078</td>\n",
              "      <td>-0.496219</td>\n",
              "    </tr>\n",
              "    <tr>\n",
              "      <th>4</th>\n",
              "      <td>-0.571367</td>\n",
              "      <td>0.571367</td>\n",
              "      <td>-0.012796</td>\n",
              "      <td>-0.666673</td>\n",
              "      <td>0.008801</td>\n",
              "      <td>0.642350</td>\n",
              "      <td>0.055911</td>\n",
              "      <td>0.928254</td>\n",
              "      <td>1.243074</td>\n",
              "      <td>0.301278</td>\n",
              "      <td>-0.176782</td>\n",
              "      <td>-0.882078</td>\n",
              "      <td>-0.496219</td>\n",
              "    </tr>\n",
              "  </tbody>\n",
              "</table>\n",
              "</div>"
            ],
            "text/plain": [
              "         0         1         2   ...        10        11        12\n",
              "0 -0.571367  0.571367 -0.167159  ... -1.359665 -0.545959 -1.418558\n",
              "1 -0.571367  0.571367 -0.707427  ...  0.508045 -0.277064 -0.831615\n",
              "2 -0.571367  0.571367  0.681835  ...  0.259017 -0.613183 -0.328521\n",
              "3 -0.571367  0.571367 -0.012796  ... -0.176782 -0.882078 -0.496219\n",
              "4 -0.571367  0.571367 -0.012796  ... -0.176782 -0.882078 -0.496219\n",
              "\n",
              "[5 rows x 13 columns]"
            ]
          },
          "metadata": {
            "tags": []
          },
          "execution_count": 505
        }
      ]
    },
    {
      "cell_type": "markdown",
      "metadata": {
        "id": "2Ze_p0Oe-Kqn"
      },
      "source": [
        "***spliting the dataset in to train and test set***"
      ]
    },
    {
      "cell_type": "code",
      "metadata": {
        "id": "dtPyQl5IpZUU"
      },
      "source": [
        "from sklearn.model_selection import train_test_split                 #-------module to work with spliting the data into trainig and testing \n",
        "X_train, X_test, y_train, y_test = train_test_split(X, y, test_size = 0.30, random_state = 0)"
      ],
      "execution_count": 506,
      "outputs": []
    },
    {
      "cell_type": "markdown",
      "metadata": {
        "id": "GOlA1gyG-Ttm"
      },
      "source": [
        "***shape of the dataset***"
      ]
    },
    {
      "cell_type": "code",
      "metadata": {
        "colab": {
          "base_uri": "https://localhost:8080/"
        },
        "id": "6QzTPIN86zxk",
        "outputId": "4447c428-b326-48db-c519-681650f1f1b8"
      },
      "source": [
        "print(X_train.shape)\n",
        "print(X_test.shape)\n",
        "print(y_train.shape)\n",
        "print(y_test.shape)"
      ],
      "execution_count": 507,
      "outputs": [
        {
          "output_type": "stream",
          "text": [
            "(4547, 13)\n",
            "(1950, 13)\n",
            "(4547,)\n",
            "(1950,)\n"
          ],
          "name": "stdout"
        }
      ]
    },
    {
      "cell_type": "markdown",
      "metadata": {
        "id": "cEtJRbiy9DI3"
      },
      "source": [
        "***SVM model***"
      ]
    },
    {
      "cell_type": "code",
      "metadata": {
        "colab": {
          "base_uri": "https://localhost:8080/"
        },
        "id": "Yan9YaHT8LIs",
        "outputId": "788a1c0d-2829-4d43-fb4b-e3b7bd8cbdeb"
      },
      "source": [
        "from sklearn.svm import SVC\n",
        "modelsvm = SVC()                           #---------------------># creating the model\n",
        "\n",
        "modelsvm.fit(X_train, y_train)             #----------------------> training the model using fit()\n",
        "\n",
        "y_predsvm = modelsvm.predict(X_test)\n",
        "print(\"Training accuracy :\", modelsvm.score(X_train, y_train))\n"
      ],
      "execution_count": 508,
      "outputs": [
        {
          "output_type": "stream",
          "text": [
            "Training accuracy : 0.7934902133274686\n"
          ],
          "name": "stdout"
        }
      ]
    },
    {
      "cell_type": "markdown",
      "metadata": {
        "id": "7HW-ioYw9IfX"
      },
      "source": [
        "***Accuracy of the test dataset***"
      ]
    },
    {
      "cell_type": "markdown",
      "metadata": {
        "id": "kf59HF2Q-hez"
      },
      "source": [
        "Now we are intrested in finding the accuracy of our model by comparing y_test and y_predsvm and this is done using metrics module's method accuracy_score"
      ]
    },
    {
      "cell_type": "code",
      "metadata": {
        "colab": {
          "base_uri": "https://localhost:8080/"
        },
        "id": "nn1xj60Z86rB",
        "outputId": "6d2bf259-a457-4ebe-a1e9-6cf6610e4e97"
      },
      "source": [
        "print(\"Testing accuracy :\", modelsvm.score(X_test, y_test))"
      ],
      "execution_count": 509,
      "outputs": [
        {
          "output_type": "stream",
          "text": [
            "Testing accuracy : 0.7743589743589744\n"
          ],
          "name": "stdout"
        }
      ]
    },
    {
      "cell_type": "markdown",
      "metadata": {
        "id": "Nkn6plpN9R2Q"
      },
      "source": [
        "***confusion matrix of SVM***"
      ]
    },
    {
      "cell_type": "code",
      "metadata": {
        "colab": {
          "base_uri": "https://localhost:8080/"
        },
        "id": "qhOdjkTk8UFF",
        "outputId": "f748ef4a-4ca5-403f-9164-d0bef8cc6a0b"
      },
      "source": [
        "cm_svm = confusion_matrix(y_test, y_predsvm)\n",
        "print(cm_svm)"
      ],
      "execution_count": 510,
      "outputs": [
        {
          "output_type": "stream",
          "text": [
            "[[ 457  278]\n",
            " [ 162 1053]]\n"
          ],
          "name": "stdout"
        }
      ]
    },
    {
      "cell_type": "markdown",
      "metadata": {
        "id": "u_dOQLhS9wRW"
      },
      "source": [
        "***classification report of svm***"
      ]
    },
    {
      "cell_type": "markdown",
      "metadata": {
        "id": "6Jb3XrGv-puN"
      },
      "source": [
        "confusion matrix is a performance measurment for ml classification and the confusion matrix can be done using metrics module's method confusion_matrix"
      ]
    },
    {
      "cell_type": "code",
      "metadata": {
        "colab": {
          "base_uri": "https://localhost:8080/"
        },
        "id": "3LBYzfRx9X1T",
        "outputId": "28f6db2a-b699-4aa6-a359-81e7660009e1"
      },
      "source": [
        "svm_cr = classification_report(y_test,y_predsvm)\n",
        "print(svm_cr)"
      ],
      "execution_count": 511,
      "outputs": [
        {
          "output_type": "stream",
          "text": [
            "              precision    recall  f1-score   support\n",
            "\n",
            "         0.0       0.74      0.62      0.68       735\n",
            "         1.0       0.79      0.87      0.83      1215\n",
            "\n",
            "    accuracy                           0.77      1950\n",
            "   macro avg       0.76      0.74      0.75      1950\n",
            "weighted avg       0.77      0.77      0.77      1950\n",
            "\n"
          ],
          "name": "stdout"
        }
      ]
    },
    {
      "cell_type": "markdown",
      "metadata": {
        "id": "lUc58zQE96a7"
      },
      "source": [
        "***random forest classifier***"
      ]
    },
    {
      "cell_type": "code",
      "metadata": {
        "colab": {
          "base_uri": "https://localhost:8080/"
        },
        "id": "9cZcs0qltM3w",
        "outputId": "d82562b4-6a58-4704-c867-8e3fc6290b7c"
      },
      "source": [
        "from sklearn.ensemble import RandomForestClassifier   #------------>module to work with rf classifier\n",
        "model_2_rf = RandomForestClassifier()                 #------------>creating a rf classifier object\n",
        "model_2_rf.fit(X_train,y_train)                       #------------>training the classifier"
      ],
      "execution_count": 512,
      "outputs": [
        {
          "output_type": "execute_result",
          "data": {
            "text/plain": [
              "RandomForestClassifier(bootstrap=True, ccp_alpha=0.0, class_weight=None,\n",
              "                       criterion='gini', max_depth=None, max_features='auto',\n",
              "                       max_leaf_nodes=None, max_samples=None,\n",
              "                       min_impurity_decrease=0.0, min_impurity_split=None,\n",
              "                       min_samples_leaf=1, min_samples_split=2,\n",
              "                       min_weight_fraction_leaf=0.0, n_estimators=100,\n",
              "                       n_jobs=None, oob_score=False, random_state=None,\n",
              "                       verbose=0, warm_start=False)"
            ]
          },
          "metadata": {
            "tags": []
          },
          "execution_count": 512
        }
      ]
    },
    {
      "cell_type": "markdown",
      "metadata": {
        "id": "bMi6Fa2a-CrF"
      },
      "source": [
        "***training accuracy***"
      ]
    },
    {
      "cell_type": "code",
      "metadata": {
        "colab": {
          "base_uri": "https://localhost:8080/"
        },
        "id": "QE3wtXnlumX2",
        "outputId": "420263df-c19c-4684-dd25-e4ce10cfa4dd"
      },
      "source": [
        "y_pred_rf_train = model_2_rf.predict(X_train)\n",
        "print(accuracy_score(y_train,y_pred_rf_train))"
      ],
      "execution_count": 513,
      "outputs": [
        {
          "output_type": "stream",
          "text": [
            "1.0\n"
          ],
          "name": "stdout"
        }
      ]
    },
    {
      "cell_type": "markdown",
      "metadata": {
        "id": "d_W4HtoM7GaK"
      },
      "source": [
        "***Applying the trained classifier to the test***"
      ]
    },
    {
      "cell_type": "code",
      "metadata": {
        "id": "vda5GLB7vEjr"
      },
      "source": [
        "y_pred_rf_test = model_2_rf.predict(X_test)\n"
      ],
      "execution_count": 514,
      "outputs": []
    },
    {
      "cell_type": "markdown",
      "metadata": {
        "id": "PEk2_xig7Jp3"
      },
      "source": [
        "***Evaluting the rf classsifier***"
      ]
    },
    {
      "cell_type": "markdown",
      "metadata": {
        "id": "J7Dm_17t7Qwa"
      },
      "source": [
        "Now we are intrested in finding the accuracy of our model by comparing y_test and y_pred_rf_test and this is done using metrics module's method accuracy_score"
      ]
    },
    {
      "cell_type": "code",
      "metadata": {
        "colab": {
          "base_uri": "https://localhost:8080/"
        },
        "id": "ha7xnPQU69VH",
        "outputId": "9ffbbfde-16cf-462e-a59c-91859d22ef4f"
      },
      "source": [
        "ac = print(accuracy_score(y_test,y_pred_rf_test))"
      ],
      "execution_count": 515,
      "outputs": [
        {
          "output_type": "stream",
          "text": [
            "0.818974358974359\n"
          ],
          "name": "stdout"
        }
      ]
    },
    {
      "cell_type": "markdown",
      "metadata": {
        "id": "jor3ZYS_7mfL"
      },
      "source": [
        "***confusion matrix***"
      ]
    },
    {
      "cell_type": "markdown",
      "metadata": {
        "id": "0Bs_J27i7jLN"
      },
      "source": [
        "\n",
        "confusion matrix is a performance measurment for ml classification and the confusion matrix can be done using metrics module's method confusion_matrix"
      ]
    },
    {
      "cell_type": "code",
      "metadata": {
        "colab": {
          "base_uri": "https://localhost:8080/",
          "height": 318
        },
        "id": "jn-3UtaU49V2",
        "outputId": "2b7dd5c7-28eb-408a-8429-fbccb1d09a33"
      },
      "source": [
        "from sklearn.metrics import confusion_matrix\n",
        "cm = confusion_matrix(y_test, y_pred_rf_test)\n",
        "print(cm)\n",
        "sns.heatmap(cm,annot=True,fmt='.0f')"
      ],
      "execution_count": 516,
      "outputs": [
        {
          "output_type": "stream",
          "text": [
            "[[ 511  224]\n",
            " [ 129 1086]]\n"
          ],
          "name": "stdout"
        },
        {
          "output_type": "execute_result",
          "data": {
            "text/plain": [
              "<matplotlib.axes._subplots.AxesSubplot at 0x7fe04f56f750>"
            ]
          },
          "metadata": {
            "tags": []
          },
          "execution_count": 516
        },
        {
          "output_type": "display_data",
          "data": {
            "image/png": "[encoded data removed]",
            "text/plain": [
              "<Figure size 432x288 with 2 Axes>"
            ]
          },
          "metadata": {
            "tags": []
          }
        }
      ]
    },
    {
      "cell_type": "markdown",
      "metadata": {
        "id": "rdkN_SV87ux5"
      },
      "source": [
        "***classification report of random forest***"
      ]
    },
    {
      "cell_type": "code",
      "metadata": {
        "colab": {
          "base_uri": "https://localhost:8080/"
        },
        "id": "h5qu_bp8-5Ur",
        "outputId": "45efee45-a1ca-4f99-8cc9-24b61bc04331"
      },
      "source": [
        "report_random = classification_report(y_test, y_pred_rf_test)\n",
        "print(report_random)"
      ],
      "execution_count": 517,
      "outputs": [
        {
          "output_type": "stream",
          "text": [
            "              precision    recall  f1-score   support\n",
            "\n",
            "         0.0       0.80      0.70      0.74       735\n",
            "         1.0       0.83      0.89      0.86      1215\n",
            "\n",
            "    accuracy                           0.82      1950\n",
            "   macro avg       0.81      0.79      0.80      1950\n",
            "weighted avg       0.82      0.82      0.82      1950\n",
            "\n"
          ],
          "name": "stdout"
        }
      ]
    },
    {
      "cell_type": "markdown",
      "metadata": {
        "id": "IwufIdij_tat"
      },
      "source": [
        "***logistic regression***"
      ]
    },
    {
      "cell_type": "code",
      "metadata": {
        "colab": {
          "base_uri": "https://localhost:8080/"
        },
        "id": "upyMYiUm-5YW",
        "outputId": "d5d6f78c-2177-4d43-ddf5-6f1841f414ef"
      },
      "source": [
        "from sklearn.linear_model import LogisticRegression\n",
        "model_3_lr = LogisticRegression()\n",
        "model_3_lr.fit(X_train, y_train)"
      ],
      "execution_count": 518,
      "outputs": [
        {
          "output_type": "execute_result",
          "data": {
            "text/plain": [
              "LogisticRegression(C=1.0, class_weight=None, dual=False, fit_intercept=True,\n",
              "                   intercept_scaling=1, l1_ratio=None, max_iter=100,\n",
              "                   multi_class='auto', n_jobs=None, penalty='l2',\n",
              "                   random_state=None, solver='lbfgs', tol=0.0001, verbose=0,\n",
              "                   warm_start=False)"
            ]
          },
          "metadata": {
            "tags": []
          },
          "execution_count": 518
        }
      ]
    },
    {
      "cell_type": "markdown",
      "metadata": {
        "id": "9aEuX8wn_4cT"
      },
      "source": [
        "***predicting the train accuracy***"
      ]
    },
    {
      "cell_type": "code",
      "metadata": {
        "colab": {
          "base_uri": "https://localhost:8080/"
        },
        "id": "IPoilniF--w4",
        "outputId": "a4b18485-22f2-4136-8dae-71627c795bee"
      },
      "source": [
        "y_pred_lr_train = model_3_lr.predict(X_train)\n",
        "print(accuracy_score(y_train,y_pred_lr_train))"
      ],
      "execution_count": 519,
      "outputs": [
        {
          "output_type": "stream",
          "text": [
            "0.745546514185177\n"
          ],
          "name": "stdout"
        }
      ]
    },
    {
      "cell_type": "markdown",
      "metadata": {
        "id": "r_geUuAAAAF-"
      },
      "source": [
        "***predicting the test accuracy***"
      ]
    },
    {
      "cell_type": "code",
      "metadata": {
        "colab": {
          "base_uri": "https://localhost:8080/"
        },
        "id": "w7rgs1zu_FhS",
        "outputId": "449c298a-6ee3-4449-8fc9-0b459c65ae44"
      },
      "source": [
        "y_pred_lr_test = model_3_lr.predict(X_test)\n",
        "print(accuracy_score(y_test,y_pred_lr_test))"
      ],
      "execution_count": 520,
      "outputs": [
        {
          "output_type": "stream",
          "text": [
            "0.7369230769230769\n"
          ],
          "name": "stdout"
        }
      ]
    },
    {
      "cell_type": "markdown",
      "metadata": {
        "id": "IAwpM_4qAHr9"
      },
      "source": [
        "***confusion matrix of logistic regression***"
      ]
    },
    {
      "cell_type": "code",
      "metadata": {
        "colab": {
          "base_uri": "https://localhost:8080/"
        },
        "id": "9kVoP-4u_Nyg",
        "outputId": "be1f6339-a391-4dcd-d2a4-5162bac71d08"
      },
      "source": [
        "cm2 = confusion_matrix(y_test, y_pred_lr_test)\n",
        "print(cm2)"
      ],
      "execution_count": 521,
      "outputs": [
        {
          "output_type": "stream",
          "text": [
            "[[ 410  325]\n",
            " [ 188 1027]]\n"
          ],
          "name": "stdout"
        }
      ]
    },
    {
      "cell_type": "markdown",
      "metadata": {
        "id": "ox33P0n3AQPL"
      },
      "source": [
        "***classification report of logistic regression ***"
      ]
    },
    {
      "cell_type": "code",
      "metadata": {
        "colab": {
          "base_uri": "https://localhost:8080/"
        },
        "id": "7GUwUNYO_R1J",
        "outputId": "49a37d8e-768d-4eba-fb2c-09fe0d924569"
      },
      "source": [
        "report_lr = classification_report(y_test, y_pred_lr_test)\n",
        "print(report_lr)"
      ],
      "execution_count": 522,
      "outputs": [
        {
          "output_type": "stream",
          "text": [
            "              precision    recall  f1-score   support\n",
            "\n",
            "         0.0       0.69      0.56      0.62       735\n",
            "         1.0       0.76      0.85      0.80      1215\n",
            "\n",
            "    accuracy                           0.74      1950\n",
            "   macro avg       0.72      0.70      0.71      1950\n",
            "weighted avg       0.73      0.74      0.73      1950\n",
            "\n"
          ],
          "name": "stdout"
        }
      ]
    },
    {
      "cell_type": "code",
      "metadata": {
        "id": "ZbKlXd4QXPej"
      },
      "source": [
        "from sklearn.model_selection import GridSearchCV\n",
        "# Create the parameter grid based on the results of random search \n",
        "param_grid = {\n",
        "    'bootstrap': [True],\n",
        "    'max_depth': [80, 90, 100, 110],\n",
        "    'max_features': [2, 3],\n",
        "    'min_samples_leaf': [3, 4, 5],\n",
        "    'min_samples_split': [8, 10, 12],\n",
        "    'n_estimators': [100, 200, 300, 1000]\n",
        "}\n",
        "# Create a based model\n",
        "rc = RandomForestClassifier()\n",
        "# Instantiate the grid search model\n",
        "grid_search = GridSearchCV(estimator = rc, param_grid = param_grid, \n",
        "                          cv = 5, n_jobs = -1, verbose = 2)"
      ],
      "execution_count": 523,
      "outputs": []
    },
    {
      "cell_type": "code",
      "metadata": {
        "colab": {
          "base_uri": "https://localhost:8080/"
        },
        "id": "PYEIjK76XfxC",
        "outputId": "f08af703-fa48-49d5-dcf6-43c108fba293"
      },
      "source": [
        "# Fit the grid search to the data\n",
        "grid_search.fit(X_train, y_train)\n",
        "grid_search.best_params_"
      ],
      "execution_count": 524,
      "outputs": [
        {
          "output_type": "stream",
          "text": [
            "Fitting 5 folds for each of 288 candidates, totalling 1440 fits\n"
          ],
          "name": "stdout"
        },
        {
          "output_type": "stream",
          "text": [
            "[Parallel(n_jobs=-1)]: Using backend LokyBackend with 2 concurrent workers.\n",
            "[Parallel(n_jobs=-1)]: Done  37 tasks      | elapsed:   47.1s\n",
            "[Parallel(n_jobs=-1)]: Done 158 tasks      | elapsed:  3.6min\n",
            "[Parallel(n_jobs=-1)]: Done 361 tasks      | elapsed:  9.1min\n",
            "[Parallel(n_jobs=-1)]: Done 644 tasks      | elapsed: 16.1min\n",
            "[Parallel(n_jobs=-1)]: Done 1009 tasks      | elapsed: 25.1min\n",
            "[Parallel(n_jobs=-1)]: Done 1440 out of 1440 | elapsed: 36.1min finished\n"
          ],
          "name": "stderr"
        },
        {
          "output_type": "execute_result",
          "data": {
            "text/plain": [
              "{'bootstrap': True,\n",
              " 'max_depth': 90,\n",
              " 'max_features': 3,\n",
              " 'min_samples_leaf': 3,\n",
              " 'min_samples_split': 8,\n",
              " 'n_estimators': 1000}"
            ]
          },
          "metadata": {
            "tags": []
          },
          "execution_count": 524
        }
      ]
    },
    {
      "cell_type": "code",
      "metadata": {
        "id": "5Xps0DY8corf"
      },
      "source": [
        "def evaluate(model, X_test, y_test):\n",
        "    predictions = model.predict(X_test)\n",
        "    accuracy = accuracy_score(y_test, predictions)\n",
        "    print('Model Performance')\n",
        "    #print('Average Error: {:0.4f} degrees.'.format(np.mean(errors)))\n",
        "    print('Accuracy = {:0.2f}%.'.format(accuracy))\n",
        "    \n",
        "    return accuracy"
      ],
      "execution_count": 525,
      "outputs": []
    },
    {
      "cell_type": "code",
      "metadata": {
        "colab": {
          "base_uri": "https://localhost:8080/"
        },
        "id": "7m6gWIeydjQ0",
        "outputId": "82a28cfb-b883-4a81-e43c-4e221d597739"
      },
      "source": [
        "best_grid = grid_search.best_estimator_\n",
        "grid_accuracy = evaluate(best_grid, X_test, y_test)"
      ],
      "execution_count": 526,
      "outputs": [
        {
          "output_type": "stream",
          "text": [
            "Model Performance\n",
            "Accuracy = 0.81%.\n"
          ],
          "name": "stdout"
        }
      ]
    },
    {
      "cell_type": "markdown",
      "metadata": {
        "id": "0pc7JNlhAgsb"
      },
      "source": [
        "***K_NN classifier***"
      ]
    },
    {
      "cell_type": "code",
      "metadata": {
        "colab": {
          "base_uri": "https://localhost:8080/"
        },
        "id": "Yv2r9k_fxJQD",
        "outputId": "babf769d-2507-46f5-e44e-87db3ede8f1e"
      },
      "source": [
        "from sklearn.neighbors import KNeighborsClassifier\n",
        "model_4_knn= KNeighborsClassifier(n_neighbors = 5, metric = 'minkowski', p =2)\n",
        "model_4_knn.fit(X_train, y_train)\n",
        "                                 "
      ],
      "execution_count": 527,
      "outputs": [
        {
          "output_type": "execute_result",
          "data": {
            "text/plain": [
              "KNeighborsClassifier(algorithm='auto', leaf_size=30, metric='minkowski',\n",
              "                     metric_params=None, n_jobs=None, n_neighbors=5, p=2,\n",
              "                     weights='uniform')"
            ]
          },
          "metadata": {
            "tags": []
          },
          "execution_count": 527
        }
      ]
    },
    {
      "cell_type": "markdown",
      "metadata": {
        "id": "BzjggJzdAmf7"
      },
      "source": [
        "***prediciting the train accuracy***"
      ]
    },
    {
      "cell_type": "code",
      "metadata": {
        "colab": {
          "base_uri": "https://localhost:8080/"
        },
        "id": "m5rvpIM2xaAw",
        "outputId": "32f24b25-aae8-473a-c4cb-39f9ed952eee"
      },
      "source": [
        "y_pred_knn_train = model_4_knn.predict(X_train)\n",
        "print(accuracy_score(y_train,y_pred_knn_train))"
      ],
      "execution_count": 528,
      "outputs": [
        {
          "output_type": "stream",
          "text": [
            "0.8385748845392567\n"
          ],
          "name": "stdout"
        }
      ]
    },
    {
      "cell_type": "markdown",
      "metadata": {
        "id": "j7qox9GjAs-4"
      },
      "source": [
        "***testing accuracy***"
      ]
    },
    {
      "cell_type": "code",
      "metadata": {
        "colab": {
          "base_uri": "https://localhost:8080/"
        },
        "id": "sxxlR_Ayxkd5",
        "outputId": "26f6fc6e-0ddb-47d7-dc88-38bd3ea972b5"
      },
      "source": [
        "y_pred_knn_test = model_4_knn.predict(X_test)\n",
        "print(accuracy_score(y_test,y_pred_knn_test))"
      ],
      "execution_count": 529,
      "outputs": [
        {
          "output_type": "stream",
          "text": [
            "0.7451282051282051\n"
          ],
          "name": "stdout"
        }
      ]
    },
    {
      "cell_type": "markdown",
      "metadata": {
        "id": "ky-LU0ZCAxrk"
      },
      "source": [
        "***confusion matrix of K_NN ***"
      ]
    },
    {
      "cell_type": "code",
      "metadata": {
        "colab": {
          "base_uri": "https://localhost:8080/"
        },
        "id": "X3YEPnUMt6Hk",
        "outputId": "5f81bfda-2f64-45f7-d6a7-c6159043123a"
      },
      "source": [
        "cm4 = confusion_matrix(y_test, y_pred_knn_test)\n",
        "print(cm4)"
      ],
      "execution_count": 530,
      "outputs": [
        {
          "output_type": "stream",
          "text": [
            "[[ 439  296]\n",
            " [ 201 1014]]\n"
          ],
          "name": "stdout"
        }
      ]
    },
    {
      "cell_type": "markdown",
      "metadata": {
        "id": "wWOtZxt4BHl9"
      },
      "source": [
        "***classification report of KNN***"
      ]
    },
    {
      "cell_type": "code",
      "metadata": {
        "colab": {
          "base_uri": "https://localhost:8080/"
        },
        "id": "tpEFplPlA4lP",
        "outputId": "4fa99579-9b91-44bb-bb3b-dab71185fab1"
      },
      "source": [
        "report_Knn = classification_report(y_test, y_pred_knn_test)\n",
        "print(report_Knn)"
      ],
      "execution_count": 531,
      "outputs": [
        {
          "output_type": "stream",
          "text": [
            "              precision    recall  f1-score   support\n",
            "\n",
            "         0.0       0.69      0.60      0.64       735\n",
            "         1.0       0.77      0.83      0.80      1215\n",
            "\n",
            "    accuracy                           0.75      1950\n",
            "   macro avg       0.73      0.72      0.72      1950\n",
            "weighted avg       0.74      0.75      0.74      1950\n",
            "\n"
          ],
          "name": "stdout"
        }
      ]
    },
    {
      "cell_type": "code",
      "metadata": {
        "colab": {
          "base_uri": "https://localhost:8080/"
        },
        "id": "P07AwOfWQ-93",
        "outputId": "05f84187-cbeb-4255-ec57-8a1da6199e12"
      },
      "source": [
        "from sklearn.tree import DecisionTreeClassifier\n",
        "dc = DecisionTreeClassifier()\n",
        "dc.fit(X_train,y_train)"
      ],
      "execution_count": 532,
      "outputs": [
        {
          "output_type": "execute_result",
          "data": {
            "text/plain": [
              "DecisionTreeClassifier(ccp_alpha=0.0, class_weight=None, criterion='gini',\n",
              "                       max_depth=None, max_features=None, max_leaf_nodes=None,\n",
              "                       min_impurity_decrease=0.0, min_impurity_split=None,\n",
              "                       min_samples_leaf=1, min_samples_split=2,\n",
              "                       min_weight_fraction_leaf=0.0, presort='deprecated',\n",
              "                       random_state=None, splitter='best')"
            ]
          },
          "metadata": {
            "tags": []
          },
          "execution_count": 532
        }
      ]
    },
    {
      "cell_type": "code",
      "metadata": {
        "id": "AScDpwjjRvZw"
      },
      "source": [
        "prediction = dc.predict(X_train)"
      ],
      "execution_count": 533,
      "outputs": []
    },
    {
      "cell_type": "code",
      "metadata": {
        "colab": {
          "base_uri": "https://localhost:8080/"
        },
        "id": "zSis-6O7R53j",
        "outputId": "c61995b1-dea9-4bd0-ad1b-27520f8d1f68"
      },
      "source": [
        "print(accuracy_score(y_train,prediction))"
      ],
      "execution_count": 534,
      "outputs": [
        {
          "output_type": "stream",
          "text": [
            "1.0\n"
          ],
          "name": "stdout"
        }
      ]
    },
    {
      "cell_type": "code",
      "metadata": {
        "colab": {
          "base_uri": "https://localhost:8080/"
        },
        "id": "HiLxJRZbSvZa",
        "outputId": "4e3b7469-60b0-4076-ca74-fd961d2cedae"
      },
      "source": [
        "test_prediction = dc.predict(X_test)\n",
        "print(accuracy_score(y_test,test_prediction))"
      ],
      "execution_count": 535,
      "outputs": [
        {
          "output_type": "stream",
          "text": [
            "0.7723076923076924\n"
          ],
          "name": "stdout"
        }
      ]
    },
    {
      "cell_type": "markdown",
      "metadata": {
        "id": "e1YQ8hICTa3z"
      },
      "source": [
        "***bagging classifier***"
      ]
    },
    {
      "cell_type": "code",
      "metadata": {
        "colab": {
          "base_uri": "https://localhost:8080/"
        },
        "id": "BDLNDX5aTSu1",
        "outputId": "625433a4-6b04-40e4-d0d3-78aab33ded3a"
      },
      "source": [
        "from sklearn.ensemble import BaggingClassifier\n",
        "from sklearn import model_selection\n",
        "seed = 8\n",
        "kfold = model_selection.KFold(n_splits = 3,\n",
        "                       random_state = seed)"
      ],
      "execution_count": 536,
      "outputs": [
        {
          "output_type": "stream",
          "text": [
            "/usr/local/lib/python3.7/dist-packages/sklearn/model_selection/_split.py:296: FutureWarning: Setting a random_state has no effect since shuffle is False. This will raise an error in 0.24. You should leave random_state to its default (None), or set shuffle=True.\n",
            "  FutureWarning\n"
          ],
          "name": "stderr"
        }
      ]
    },
    {
      "cell_type": "code",
      "metadata": {
        "id": "ZItZQd-qTiQi"
      },
      "source": [
        "base_cls = DecisionTreeClassifier()\n",
        "num_trees = 500\n",
        "model = BaggingClassifier(base_estimator = base_cls,\n",
        "                          n_estimators = num_trees,\n",
        "                          random_state = seed)"
      ],
      "execution_count": 537,
      "outputs": []
    },
    {
      "cell_type": "code",
      "metadata": {
        "colab": {
          "base_uri": "https://localhost:8080/"
        },
        "id": "FtPYfVOlT9YK",
        "outputId": "4a1abfbd-c9f5-4fc3-e759-0221ade42b7e"
      },
      "source": [
        "results = model_selection.cross_val_score(model, X_train, y_train, cv = kfold)\n",
        "print(\"accuracy :\")\n",
        "print(results.mean())"
      ],
      "execution_count": 538,
      "outputs": [
        {
          "output_type": "stream",
          "text": [
            "accuracy :\n",
            "0.8062459544107444\n"
          ],
          "name": "stdout"
        }
      ]
    },
    {
      "cell_type": "code",
      "metadata": {
        "colab": {
          "base_uri": "https://localhost:8080/"
        },
        "id": "XByXLMeaUbef",
        "outputId": "8261058d-4071-45c1-dbba-9448d53b54ce"
      },
      "source": [
        "results_test = model_selection.cross_val_score(model, X_test, y_test, cv = kfold)\n",
        "print(\"accuracy :\")\n",
        "print(results_test.mean())"
      ],
      "execution_count": 539,
      "outputs": [
        {
          "output_type": "stream",
          "text": [
            "accuracy :\n",
            "0.7676923076923078\n"
          ],
          "name": "stdout"
        }
      ]
    },
    {
      "cell_type": "markdown",
      "metadata": {
        "id": "RRLyPawWBNXh"
      },
      "source": [
        "***ADA boost classifie***r"
      ]
    },
    {
      "cell_type": "code",
      "metadata": {
        "colab": {
          "base_uri": "https://localhost:8080/"
        },
        "id": "r_YHyTYSyA4d",
        "outputId": "1c56aac2-056e-42bd-f7c8-a826d3080da4"
      },
      "source": [
        "from sklearn.ensemble import AdaBoostClassifier\n",
        "boost1 = AdaBoostClassifier(random_state = 1,n_estimators=100,learning_rate=1.0)\n",
        "boost1.fit(X_train,y_train)\n"
      ],
      "execution_count": 540,
      "outputs": [
        {
          "output_type": "execute_result",
          "data": {
            "text/plain": [
              "AdaBoostClassifier(algorithm='SAMME.R', base_estimator=None, learning_rate=1.0,\n",
              "                   n_estimators=100, random_state=1)"
            ]
          },
          "metadata": {
            "tags": []
          },
          "execution_count": 540
        }
      ]
    },
    {
      "cell_type": "markdown",
      "metadata": {
        "id": "W3PbWHQQPrcM"
      },
      "source": [
        "***train accuracy***"
      ]
    },
    {
      "cell_type": "code",
      "metadata": {
        "colab": {
          "base_uri": "https://localhost:8080/"
        },
        "id": "8YSb2dWn102g",
        "outputId": "2f9e4526-6b9a-4f92-b651-9640a915df77"
      },
      "source": [
        "pred = boost1.predict(X_train)\n",
        "print(accuracy_score(y_train,pred))"
      ],
      "execution_count": 541,
      "outputs": [
        {
          "output_type": "stream",
          "text": [
            "0.7904112601715417\n"
          ],
          "name": "stdout"
        }
      ]
    },
    {
      "cell_type": "markdown",
      "metadata": {
        "id": "KEgSRCu4Pvqs"
      },
      "source": [
        "***test accuracy***"
      ]
    },
    {
      "cell_type": "code",
      "metadata": {
        "colab": {
          "base_uri": "https://localhost:8080/"
        },
        "id": "WumJDyAT21Im",
        "outputId": "e7ecaa6e-1dc1-4a13-c1d8-598ded30c3a5"
      },
      "source": [
        "pred_test = boost1.predict(X_test)\n",
        "print(accuracy_score(y_test,pred_test))"
      ],
      "execution_count": 542,
      "outputs": [
        {
          "output_type": "stream",
          "text": [
            "0.7487179487179487\n"
          ],
          "name": "stdout"
        }
      ]
    },
    {
      "cell_type": "markdown",
      "metadata": {
        "id": "hD2V9NpsP0H8"
      },
      "source": [
        "***confusion matrix***"
      ]
    },
    {
      "cell_type": "code",
      "metadata": {
        "colab": {
          "base_uri": "https://localhost:8080/"
        },
        "id": "v_Wci7j8uIBK",
        "outputId": "d752176b-ab65-484d-9ab3-c6cd27cbeb43"
      },
      "source": [
        "cm5 = confusion_matrix(y_test, pred_test)\n",
        "print(cm5)"
      ],
      "execution_count": 543,
      "outputs": [
        {
          "output_type": "stream",
          "text": [
            "[[ 449  286]\n",
            " [ 204 1011]]\n"
          ],
          "name": "stdout"
        }
      ]
    },
    {
      "cell_type": "markdown",
      "metadata": {
        "id": "GNLVwVXcQDny"
      },
      "source": [
        "***classification report***"
      ]
    },
    {
      "cell_type": "code",
      "metadata": {
        "colab": {
          "base_uri": "https://localhost:8080/"
        },
        "id": "mgOR77PnP8HE",
        "outputId": "0fb35e7a-4109-4a49-aa41-f311e9c613cd"
      },
      "source": [
        "report_ada = classification_report(y_test, pred_test)\n",
        "print(report_ada)"
      ],
      "execution_count": 544,
      "outputs": [
        {
          "output_type": "stream",
          "text": [
            "              precision    recall  f1-score   support\n",
            "\n",
            "         0.0       0.69      0.61      0.65       735\n",
            "         1.0       0.78      0.83      0.80      1215\n",
            "\n",
            "    accuracy                           0.75      1950\n",
            "   macro avg       0.73      0.72      0.73      1950\n",
            "weighted avg       0.74      0.75      0.75      1950\n",
            "\n"
          ],
          "name": "stdout"
        }
      ]
    },
    {
      "cell_type": "markdown",
      "metadata": {
        "id": "IVIpyW5rPPRA"
      },
      "source": [
        "***Gradient Boosting classifier***"
      ]
    },
    {
      "cell_type": "code",
      "metadata": {
        "colab": {
          "base_uri": "https://localhost:8080/"
        },
        "id": "4IULj1mT3E1d",
        "outputId": "99b71688-36a7-4b74-9726-87ba0e2c5629"
      },
      "source": [
        "from sklearn.ensemble import GradientBoostingClassifier\n",
        "boost2 = GradientBoostingClassifier(n_estimators=100,max_depth=5)\n",
        "boost2.fit(X_train,y_train)"
      ],
      "execution_count": 545,
      "outputs": [
        {
          "output_type": "execute_result",
          "data": {
            "text/plain": [
              "GradientBoostingClassifier(ccp_alpha=0.0, criterion='friedman_mse', init=None,\n",
              "                           learning_rate=0.1, loss='deviance', max_depth=5,\n",
              "                           max_features=None, max_leaf_nodes=None,\n",
              "                           min_impurity_decrease=0.0, min_impurity_split=None,\n",
              "                           min_samples_leaf=1, min_samples_split=2,\n",
              "                           min_weight_fraction_leaf=0.0, n_estimators=100,\n",
              "                           n_iter_no_change=None, presort='deprecated',\n",
              "                           random_state=None, subsample=1.0, tol=0.0001,\n",
              "                           validation_fraction=0.1, verbose=0,\n",
              "                           warm_start=False)"
            ]
          },
          "metadata": {
            "tags": []
          },
          "execution_count": 545
        }
      ]
    },
    {
      "cell_type": "code",
      "metadata": {
        "colab": {
          "base_uri": "https://localhost:8080/"
        },
        "id": "8YrvRKKR3iLG",
        "outputId": "29be41b3-8cfa-4df3-ef79-18c7c4308ceb"
      },
      "source": [
        "predict_train = boost2.predict(X_train)\n",
        "print('\\nTarget on train data',predict_train)"
      ],
      "execution_count": 546,
      "outputs": [
        {
          "output_type": "stream",
          "text": [
            "\n",
            "Target on train data [1. 1. 0. ... 1. 1. 0.]\n"
          ],
          "name": "stdout"
        }
      ]
    },
    {
      "cell_type": "markdown",
      "metadata": {
        "id": "Q8L9VYH4PaTn"
      },
      "source": [
        "***train accuracy***"
      ]
    },
    {
      "cell_type": "code",
      "metadata": {
        "colab": {
          "base_uri": "https://localhost:8080/"
        },
        "id": "LsgAxBsx31Tt",
        "outputId": "d9dbadda-fcae-4140-cb5b-1ca040a41380"
      },
      "source": [
        "accuracy_train = accuracy_score(y_train,predict_train)\n",
        "print('\\naccuracy_score on train dataset : ', accuracy_train)"
      ],
      "execution_count": 547,
      "outputs": [
        {
          "output_type": "stream",
          "text": [
            "\n",
            "accuracy_score on train dataset :  0.8926764899934022\n"
          ],
          "name": "stdout"
        }
      ]
    },
    {
      "cell_type": "code",
      "metadata": {
        "colab": {
          "base_uri": "https://localhost:8080/"
        },
        "id": "bBslelRA4Cqn",
        "outputId": "d3cdc72f-6f2a-4b34-85ea-6b30456cdcc4"
      },
      "source": [
        "predict_test = boost2.predict(X_test)\n",
        "print('\\nTarget on train data',predict_test)"
      ],
      "execution_count": 548,
      "outputs": [
        {
          "output_type": "stream",
          "text": [
            "\n",
            "Target on train data [1. 0. 1. ... 1. 1. 0.]\n"
          ],
          "name": "stdout"
        }
      ]
    },
    {
      "cell_type": "markdown",
      "metadata": {
        "id": "XkG5xRmGPfaJ"
      },
      "source": [
        "***test accuracy***"
      ]
    },
    {
      "cell_type": "code",
      "metadata": {
        "colab": {
          "base_uri": "https://localhost:8080/"
        },
        "id": "MYUsVqmy377z",
        "outputId": "ac958cea-c254-4c03-fe03-43f8ba85fb46"
      },
      "source": [
        "accuracy_test = accuracy_score(y_test,predict_test)\n",
        "print('\\naccuracy_score on train dataset : ', accuracy_test)"
      ],
      "execution_count": 549,
      "outputs": [
        {
          "output_type": "stream",
          "text": [
            "\n",
            "accuracy_score on train dataset :  0.7897435897435897\n"
          ],
          "name": "stdout"
        }
      ]
    },
    {
      "cell_type": "markdown",
      "metadata": {
        "id": "EpoetXPkPkjv"
      },
      "source": [
        "***confusion matrix***"
      ]
    },
    {
      "cell_type": "code",
      "metadata": {
        "colab": {
          "base_uri": "https://localhost:8080/"
        },
        "id": "EyV2RkS_0gMs",
        "outputId": "596e9686-3a11-457d-eee1-82d04a6e7053"
      },
      "source": [
        "cm6 = confusion_matrix(y_test, predict_test)\n",
        "print(cm6)"
      ],
      "execution_count": 550,
      "outputs": [
        {
          "output_type": "stream",
          "text": [
            "[[ 481  254]\n",
            " [ 156 1059]]\n"
          ],
          "name": "stdout"
        }
      ]
    },
    {
      "cell_type": "markdown",
      "metadata": {
        "id": "Acycanu_QIXZ"
      },
      "source": [
        "***classification report***"
      ]
    },
    {
      "cell_type": "code",
      "metadata": {
        "colab": {
          "base_uri": "https://localhost:8080/"
        },
        "id": "LJiops_XQqSd",
        "outputId": "47cbd29a-00dd-4230-8110-575ded55b463"
      },
      "source": [
        "report_gd= classification_report(y_test, predict_test)\n",
        "print(report_gd)"
      ],
      "execution_count": 551,
      "outputs": [
        {
          "output_type": "stream",
          "text": [
            "              precision    recall  f1-score   support\n",
            "\n",
            "         0.0       0.76      0.65      0.70       735\n",
            "         1.0       0.81      0.87      0.84      1215\n",
            "\n",
            "    accuracy                           0.79      1950\n",
            "   macro avg       0.78      0.76      0.77      1950\n",
            "weighted avg       0.79      0.79      0.79      1950\n",
            "\n"
          ],
          "name": "stdout"
        }
      ]
    },
    {
      "cell_type": "markdown",
      "metadata": {
        "id": "dZLZofVTMPT7"
      },
      "source": [
        "***ROC curve***"
      ]
    },
    {
      "cell_type": "markdown",
      "metadata": {
        "id": "64_Y25clNFGD"
      },
      "source": [
        "***ROC curve Random forest***"
      ]
    },
    {
      "cell_type": "code",
      "metadata": {
        "id": "tNr-koVJrj66"
      },
      "source": [
        "from sklearn.metrics import roc_auc_score, roc_curve\n"
      ],
      "execution_count": 552,
      "outputs": []
    },
    {
      "cell_type": "code",
      "metadata": {
        "id": "WLVDNZtRyt_3"
      },
      "source": [
        "roc_model = model_2_rf.predict_proba(X_test)"
      ],
      "execution_count": 553,
      "outputs": []
    },
    {
      "cell_type": "code",
      "metadata": {
        "id": "gj4jVNd42vj5"
      },
      "source": [
        "roc_model = roc_model[:, 1]"
      ],
      "execution_count": 554,
      "outputs": []
    },
    {
      "cell_type": "code",
      "metadata": {
        "colab": {
          "base_uri": "https://localhost:8080/"
        },
        "id": "vWOzzZFTzCde",
        "outputId": "8ce70d3a-f648-49ba-b6fd-0ff40f3a8c4a"
      },
      "source": [
        "roc_acc = roc_auc_score(y_test, roc_model)\n",
        "print(roc_acc)"
      ],
      "execution_count": 555,
      "outputs": [
        {
          "output_type": "stream",
          "text": [
            "0.8937364575459814\n"
          ],
          "name": "stdout"
        }
      ]
    },
    {
      "cell_type": "code",
      "metadata": {
        "colab": {
          "base_uri": "https://localhost:8080/",
          "height": 268
        },
        "id": "AYYxMkE_zZlv",
        "outputId": "a9a8ed08-c36d-4a1d-d29b-81e7793fc4ee"
      },
      "source": [
        "false_positive_rate,true_positive_rate,thresholds = roc_curve(y_test,roc_model)\n",
        "plt.plot([0,1],[0,1], linestyle = '--')\n",
        "plt.plot(false_positive_rate,true_positive_rate,color = 'red')\n",
        "plt.show()"
      ],
      "execution_count": 556,
      "outputs": [
        {
          "output_type": "display_data",
          "data": {
            "image/png": "[encoded data removed]",
            "text/plain": [
              "<Figure size 432x288 with 1 Axes>"
            ]
          },
          "metadata": {
            "tags": []
          }
        }
      ]
    },
    {
      "cell_type": "markdown",
      "metadata": {
        "id": "jDdbVIvvNOMm"
      },
      "source": [
        "***ROC curve of KNN***"
      ]
    },
    {
      "cell_type": "code",
      "metadata": {
        "id": "h74LQuls29Pu"
      },
      "source": [
        "roc_model1 = model_4_knn.predict_proba(X_test)"
      ],
      "execution_count": 557,
      "outputs": []
    },
    {
      "cell_type": "code",
      "metadata": {
        "id": "IQtkmb9B3gE4"
      },
      "source": [
        "roc_model1 = roc_model1[:, 1]"
      ],
      "execution_count": 558,
      "outputs": []
    },
    {
      "cell_type": "code",
      "metadata": {
        "colab": {
          "base_uri": "https://localhost:8080/"
        },
        "id": "29PrUa0b3r5v",
        "outputId": "4bf741cc-b01d-4a0d-e010-e3c45b506687"
      },
      "source": [
        "roc_acc_knn = roc_auc_score(y_test, roc_model1)\n",
        "print(roc_acc_knn)"
      ],
      "execution_count": 559,
      "outputs": [
        {
          "output_type": "stream",
          "text": [
            "0.8070613924582177\n"
          ],
          "name": "stdout"
        }
      ]
    },
    {
      "cell_type": "code",
      "metadata": {
        "colab": {
          "base_uri": "https://localhost:8080/",
          "height": 268
        },
        "id": "c_EetJaG38Xm",
        "outputId": "b224dd71-d5c8-4e55-ef9d-9e0f332fe128"
      },
      "source": [
        "false_positive_rate,true_positive_rate,thresholds = roc_curve(y_test,roc_model1)\n",
        "plt.plot([0,1],[0,1], linestyle = '--')\n",
        "plt.plot(false_positive_rate,true_positive_rate,color = 'blue')\n",
        "plt.show()"
      ],
      "execution_count": 560,
      "outputs": [
        {
          "output_type": "display_data",
          "data": {
            "image/png": "[encoded data removed]",
            "text/plain": [
              "<Figure size 432x288 with 1 Axes>"
            ]
          },
          "metadata": {
            "tags": []
          }
        }
      ]
    },
    {
      "cell_type": "code",
      "metadata": {
        "id": "eRAXgQFu4CZM"
      },
      "source": [
        ""
      ],
      "execution_count": 560,
      "outputs": []
    }
  ]
}